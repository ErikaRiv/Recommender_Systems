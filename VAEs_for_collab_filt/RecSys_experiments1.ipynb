{
  "nbformat": 4,
  "nbformat_minor": 0,
  "metadata": {
    "colab": {
      "name": "RecSys_experiments1.ipynb",
      "provenance": [],
      "collapsed_sections": []
    },
    "kernelspec": {
      "name": "python3",
      "display_name": "Python 3"
    },
    "language_info": {
      "name": "python"
    }
  },
  "cells": [
    {
      "cell_type": "code",
      "execution_count": null,
      "metadata": {
        "colab": {
          "base_uri": "https://localhost:8080/"
        },
        "id": "wr6nrRoYOm8g",
        "outputId": "31f6d3d7-81d2-43ee-f644-e5153b580b54"
      },
      "outputs": [
        {
          "output_type": "stream",
          "name": "stdout",
          "text": [
            "Mounted at /content/drive\n"
          ]
        }
      ],
      "source": [
        "from google.colab import drive\n",
        "drive.mount('/content/drive')"
      ]
    },
    {
      "cell_type": "code",
      "source": [
        "%cd /content/drive/MyDrive/Recommender systems/RecSys_PyTorch-master"
      ],
      "metadata": {
        "colab": {
          "base_uri": "https://localhost:8080/"
        },
        "id": "cklS4ndiPWB_",
        "outputId": "96b88b28-6461-46eb-8162-e66bd8db00a4"
      },
      "execution_count": null,
      "outputs": [
        {
          "output_type": "stream",
          "name": "stdout",
          "text": [
            "/content/drive/MyDrive/Recommender systems/RecSys_PyTorch-master\n"
          ]
        }
      ]
    },
    {
      "cell_type": "code",
      "source": [
        "pip install omegaconf"
      ],
      "metadata": {
        "colab": {
          "base_uri": "https://localhost:8080/"
        },
        "id": "VIsjpE17RJIy",
        "outputId": "91315851-8ab1-4452-f8ff-77de973c82ee"
      },
      "execution_count": null,
      "outputs": [
        {
          "output_type": "stream",
          "name": "stdout",
          "text": [
            "Requirement already satisfied: omegaconf in /usr/local/lib/python3.7/dist-packages (2.1.1)\n",
            "Requirement already satisfied: PyYAML>=5.1.0 in /usr/local/lib/python3.7/dist-packages (from omegaconf) (6.0)\n",
            "Requirement already satisfied: antlr4-python3-runtime==4.8 in /usr/local/lib/python3.7/dist-packages (from omegaconf) (4.8)\n"
          ]
        }
      ]
    },
    {
      "cell_type": "code",
      "source": [
        "# Import packages\n",
        "import os\n",
        "import io\n",
        "import torch\n",
        "import csv\n",
        "#import models\n",
        "import time\n",
        "from time import strftime, sleep\n",
        "import datetime\n",
        "from dataclasses import dataclass, field\n",
        "import abc\n",
        "from argparse import Namespace\n",
        "import pandas as pd\n",
        "import numpy as np\n",
        "import scipy.sparse as sp\n",
        "from typing import List, Dict, Iterable, MutableMapping, Union, Optional, Tuple\n",
        "from pathlib import Path\n",
        "from typing import List, Tuple\n",
        "from dataclasses import dataclass, field\n",
        "import random\n",
        "import math\n",
        "import logging\n",
        "from collections import OrderedDict\n",
        "from utils.stats import Statistics\n",
        "import torch.nn as nn\n",
        "import torch.nn.functional as F\n",
        "\n",
        "\n",
        "from omegaconf import OmegaConf"
      ],
      "metadata": {
        "id": "q7P5hTYhQEz1"
      },
      "execution_count": null,
      "outputs": []
    },
    {
      "cell_type": "markdown",
      "source": [
        "#PREPROCESS"
      ],
      "metadata": {
        "id": "XoTtPSIdU5HS"
      }
    },
    {
      "cell_type": "code",
      "source": [
        "def split_into_tr_val_te(data:pd.DataFrame, generalization:str, num_valid_items:Union[int, float], num_test_items:Union[int, float], \n",
        "                        holdout_users:int, split_random:bool, user2id:Dict, item2id:Dict) -> Dict:\n",
        "    prepro_data_dict = {}\n",
        "    if generalization == 'weak':\n",
        "        # Split data into train, valid, test\n",
        "        train_data, test_data = split_input_target_by_users(data, test_ratio=num_valid_items, split_random=split_random)\n",
        "        train_data, valid_data = split_input_target_by_users(train_data, test_ratio=num_test_items, split_random=split_random)\n",
        "\n",
        "        prepro_data_dict['train'] = train_data\n",
        "        prepro_data_dict['valid'] = valid_data\n",
        "        prepro_data_dict['test'] = test_data\n",
        "    else:\n",
        "        user_ids = np.array(list(user2id.values()))\n",
        "        num_users = len(user_ids)\n",
        "        num_valid_users = num_test_users = int(num_users * holdout_users)\n",
        "        num_train_users = num_users - num_valid_users - num_test_users\n",
        "\n",
        "        perm = np.random.permutation(num_users)\n",
        "        \n",
        "        train_user_idx = perm[:num_train_users]\n",
        "        valid_user_idx = perm[num_train_users: num_train_users + num_valid_users]\n",
        "        test_user_idx = perm[num_train_users + num_valid_users: num_train_users + num_valid_users + num_test_users]\n",
        "\n",
        "        train_users = user_ids[train_user_idx]\n",
        "        valid_users = user_ids[valid_user_idx]\n",
        "        test_users = user_ids[test_user_idx]\n",
        "        \n",
        "        # possible refactor candidate: 3N -> N\n",
        "        train_data = data.loc[data.user.isin(train_users)]\n",
        "        valid_data = data.loc[data.user.isin(valid_users)]\n",
        "        test_data = data.loc[data.user.isin(test_users)]\n",
        "\n",
        "        valid_input, valid_target = split_input_target_by_users(valid_data, test_ratio=num_valid_items, split_random=split_random)\n",
        "        test_input, test_target = split_input_target_by_users(test_data, test_ratio=num_test_items, split_random=split_random)\n",
        "\n",
        "        prepro_data_dict['train'] = train_data\n",
        "        prepro_data_dict['valid_input'] = valid_input\n",
        "        prepro_data_dict['valid_target'] = valid_target\n",
        "        prepro_data_dict['test_input'] = test_input\n",
        "        prepro_data_dict['test_target'] = test_target\n",
        "    \n",
        "    return prepro_data_dict\n",
        "\n",
        "def split_input_target_by_users(df:pd.DataFrame, test_ratio:float=0.2, split_random:bool=True):\n",
        "    df_group = df.groupby('user')\n",
        "    train_list, test_list = [], []\n",
        "\n",
        "    num_zero_train, num_zero_test = 0, 0\n",
        "    for _, group in df_group:\n",
        "        user = pd.unique(group.user)[0]\n",
        "        num_items_user = len(group)\n",
        "\n",
        "        if isinstance(test_ratio, float):\n",
        "            num_test_items = int(math.ceil(test_ratio * num_items_user))\n",
        "        else:\n",
        "            num_test_items = test_ratio\n",
        "        group = group.sort_values(by='timestamp')\n",
        "        \n",
        "        idx = np.ones(num_items_user, dtype='bool')\n",
        "        if split_random:\n",
        "            test_idx = np.random.choice(num_items_user, num_test_items, replace=False)\n",
        "            idx[test_idx] = False\n",
        "        else:    \n",
        "            idx[-num_test_items:] = False\n",
        "\n",
        "        \n",
        "        if len(group[idx]) == 0:\n",
        "            num_zero_train += 1\n",
        "        else:\n",
        "            train_list.append(group[idx])\n",
        "\n",
        "        if len(group[np.logical_not(idx)]) == 0:\n",
        "            num_zero_test += 1\n",
        "        else:\n",
        "            test_list.append(group[np.logical_not(idx)])\n",
        "    \n",
        "    train_df = pd.concat(train_list)\n",
        "    test_df = pd.concat(test_list)\n",
        "\n",
        "    # TODO: warn zero train, test users\n",
        "\n",
        "    return train_df, test_df"
      ],
      "metadata": {
        "id": "LTz6FZS3U7Fc"
      },
      "execution_count": null,
      "outputs": []
    },
    {
      "cell_type": "markdown",
      "source": [
        "#TYPE"
      ],
      "metadata": {
        "id": "XvIa4CMJUOnS"
      }
    },
    {
      "cell_type": "code",
      "source": [
        "def df_to_sparse(df: pd.DataFrame, shape: Tuple[int, int]) -> sp.csr_matrix:\n",
        "    users = df.user\n",
        "    items = df.item\n",
        "    ratings = df.rating\n",
        "\n",
        "    sp_matrix = sp.csr_matrix((ratings, (users, items)), shape=shape)\n",
        "    return sp_matrix\n",
        "\n",
        "def sparse_to_dict(sparse: sp.csr_matrix) -> dict:\n",
        "    if isinstance(sparse, dict):\n",
        "        return sparse\n",
        "    \n",
        "    ret_dict = {}\n",
        "    dim1 = sparse.shape[0]\n",
        "    for i in range(dim1):\n",
        "        ret_dict[i] = sparse.indices[sparse.indptr[i]: sparse.indptr[i+1]]\n",
        "    return ret_dict"
      ],
      "metadata": {
        "id": "xdsGxt6GUQKe"
      },
      "execution_count": null,
      "outputs": []
    },
    {
      "cell_type": "markdown",
      "source": [
        "#DATASET"
      ],
      "metadata": {
        "id": "33DBKkXlVFQM"
      }
    },
    {
      "cell_type": "code",
      "source": [
        "class UIRTDataset(object):\n",
        "    def __init__(self, data_path:str, dataname:Optional[str]=None, separator:str=',', binarize_threshold:Union[int, float]=0.0, implicit:bool=True, \n",
        "                        min_item_per_user:int=5, min_user_per_item:int=0, protocol:str='holdout', generalization:str='weak', \n",
        "                        holdout_users:Union[int, float]=0.1, valid_ratio:Union[int, float]=0.1, test_ratio:Union[int, float]=0.2, \n",
        "                        leave_k:int=1, split_random:bool=True, cache_dir:str='cache', seed:int=1234):\n",
        "        self.data_path = Path(data_path)\n",
        "        self.base_dir = self.data_path.parent\n",
        "        self.dataname = dataname if dataname is not None else self.base_dir.name\n",
        "\n",
        "        self.separator = separator\n",
        "        self.binarize_threshold = binarize_threshold\n",
        "        self.implicit = implicit\n",
        "        self.min_item_per_user = min_item_per_user\n",
        "        self.min_user_per_item = min_user_per_item\n",
        "\n",
        "        self.protocol = protocol\n",
        "        self.generalization = generalization\n",
        "        self.holdout_users = holdout_users\n",
        "\n",
        "        self.valid_ratio = valid_ratio\n",
        "        self.test_ratio = test_ratio\n",
        "        self.leave_k = leave_k\n",
        "        self.split_random = split_random\n",
        "\n",
        "        self.seed = seed\n",
        "        self.cache_dir = cache_dir\n",
        "\n",
        "        self._prepro_cache_dir = None\n",
        "        \n",
        "        self._set_preprocessed_cache_dir()\n",
        "        self._prepro_file_dict, self._user2id_file, self._item2id_file = self._ensure_preprocessed()\n",
        "        self._load_preproessed_data()\n",
        "\n",
        "    def _load_preproessed_data(self) -> None:\n",
        "        def transform(df):\n",
        "            if self.implicit:\n",
        "                if self.binarize_threshold > 0:\n",
        "                    df = df[df['rating'] >= self.threshold]\n",
        "                df.rating = np.ones(len(df))\n",
        "            return df\n",
        "        \n",
        "        print('Load preprocessed data...')\n",
        "\n",
        "        self.user2id = self._load_id_map(self._user2id_file)\n",
        "        self.item2id = self._load_id_map(self._item2id_file)\n",
        "        self.num_users, self.num_items = len(self.user2id), len(self.item2id)\n",
        "\n",
        "        names=['user', 'item', 'rating', 'timestamp']\n",
        "        dtype={'user': int, 'item': int, 'rating': float, 'timestamp': float}\n",
        "        \n",
        "        if self.generalization == 'weak':\n",
        "            train_df = transform(pd.read_csv(self._prepro_file_dict['train'], sep=',', names=names, dtype=dtype))\n",
        "            valid_df = transform(pd.read_csv(self._prepro_file_dict['valid'], sep=',', names=names, dtype=dtype))\n",
        "            test_df = transform(pd.read_csv(self._prepro_file_dict['test'], sep=',', names=names, dtype=dtype))\n",
        "\n",
        "            self.train_users = self.valid_users = self.test_users = list(pd.unique(train_df.user))\n",
        "\n",
        "            self.train_data = df_to_sparse(train_df, shape=(self.num_users, self.num_items))\n",
        "            self.valid_target = df_to_sparse(valid_df, shape=(self.num_users, self.num_items))\n",
        "            self.test_target = df_to_sparse(test_df, shape=(self.num_users, self.num_items))\n",
        "        else:\n",
        "            train_df = transform(pd.read_csv(self._prepro_file_dict['train'], sep=',', names=names, dtype=dtype))\n",
        "            valid_input_df = transform(pd.read_csv(self._prepro_file_dict['valid_input'], sep=',', names=names, dtype=dtype))\n",
        "            valid_target_df = transform(pd.read_csv(self._prepro_file_dict['valid_target'], sep=',', names=names, dtype=dtype))\n",
        "            test_input_df = transform(pd.read_csv(self._prepro_file_dict['test_input'], sep=',', names=names, dtype=dtype))\n",
        "            test_target_df = transform(pd.read_csv(self._prepro_file_dict['test_target'], sep=',', names=names, dtype=dtype))\n",
        "\n",
        "            self.train_users = list(pd.unique(train_df.user))\n",
        "            self.valid_users = list(pd.unique(valid_input_df.user))\n",
        "            self.test_users = list(pd.unique(test_input_df.user))\n",
        "\n",
        "            valid_user_ids = [self.user2id[u] for u in self.valid_users]\n",
        "            test_user_ids = [self.user2id[u] for u in self.test_users]\n",
        "\n",
        "            self.train_data = df_to_sparse(train_df, shape=(self.num_users, self.num_items))\n",
        "            self.valid_input = df_to_sparse(valid_input_df, shape=(self.num_users, self.num_items))[valid_user_ids]\n",
        "            self.valid_target = df_to_sparse(valid_target_df, shape=(self.num_users, self.num_items))[valid_user_ids]\n",
        "            self.test_input = df_to_sparse(test_input_df, shape=(self.num_users, self.num_items))[test_user_ids]\n",
        "            self.test_target = df_to_sparse(test_target_df, shape=(self.num_users, self.num_items))[test_user_ids]\n",
        "    \n",
        "    def _ensure_preprocessed(self) -> None:\n",
        "        if self.generalization == 'weak':\n",
        "            prepro_dict = {\n",
        "                'train': self._prepro_cache_dir / 'train.csv',\n",
        "                'valid': self._prepro_cache_dir / 'valid.csv',\n",
        "                'test': self._prepro_cache_dir / 'test.csv'\n",
        "            }\n",
        "        else:\n",
        "            prepro_dict = {\n",
        "                'train': self._prepro_cache_dir / 'train.csv',\n",
        "                'valid_input': self._prepro_cache_dir / 'valid_input.csv',\n",
        "                'valid_target': self._prepro_cache_dir / 'valid_target.csv',\n",
        "                'test_input': self._prepro_cache_dir / 'test_input.csv',\n",
        "                'test_target': self._prepro_cache_dir / 'test_target.csv'\n",
        "            }\n",
        "        user2id_file = self._prepro_cache_dir / 'user_map'\n",
        "        item2id_file = self._prepro_cache_dir / 'item_map'\n",
        "        files_to_check = list(prepro_dict.values()) + [user2id_file, item2id_file]\n",
        "        \n",
        "        if self._check_preprocssed(files_to_check):\n",
        "            print('Load from preprocssed')\n",
        "        else:\n",
        "            print('Preprocess raw data...')\n",
        "            raw_data = pd.read_csv(self.data_path, sep=self.separator, \n",
        "                                names=['user', 'item', 'rating', 'timestamp'],\n",
        "                                dtype={'user': int, 'item': int, 'rating': float, 'timestamp': float},\n",
        "                                engine='python')\n",
        "            \n",
        "            # TODO: handle UI, UIR, UIT via NaN\n",
        "            sample_row = raw_data.iloc[0,:]\n",
        "            if pd.isna(sample_row.rating):\n",
        "                raw_data.rating = np.ones(len(raw_data))\n",
        "            if pd.isna(sample_row.timestamp):\n",
        "                raw_data.timestamp = np.ones(len(raw_data))           \n",
        "            \n",
        "            # user item id map\n",
        "            raw_num_users = len(pd.unique(raw_data.user))\n",
        "            raw_num_items = len(pd.unique(raw_data.item))\n",
        "\n",
        "            # Filter users\n",
        "            num_items_by_user = raw_data.groupby('user', as_index=False).size()\n",
        "            num_items_by_user = num_items_by_user.set_index('user')\n",
        "            user_filter_idx = raw_data['user'].isin(num_items_by_user.index[num_items_by_user['size'] >= self.min_item_per_user])\n",
        "            raw_data = raw_data[user_filter_idx]\n",
        "            num_items_by_user = raw_data.groupby('user', as_index=False).size()\n",
        "            num_items_by_user = num_items_by_user.set_index('user')\n",
        "            \n",
        "            num_users = len(pd.unique(raw_data.user))\n",
        "            print('# user after filter (min %d items): %d' % (self.min_item_per_user, num_users))\n",
        "\n",
        "            # Filter items\n",
        "            num_users_by_item = raw_data.groupby('item', as_index=False).size()\n",
        "            num_users_by_item = num_users_by_item.set_index('item')\n",
        "            item_filter_idx = raw_data['item'].isin(num_users_by_item.index[num_users_by_item['size'] >= self.min_user_per_item])\n",
        "            raw_data = raw_data[item_filter_idx]\n",
        "            num_users_by_item = raw_data.groupby('item', as_index=False).size()\n",
        "            num_users_by_item = num_users_by_item.set_index('item')\n",
        "\n",
        "            num_items = len(pd.unique(raw_data.item))\n",
        "            print('# item after filter (min %d users): %d' % (self.min_user_per_item, num_items))\n",
        "\n",
        "            # Build user old2new id map\n",
        "            # user_frame = num_items_by_user.to_frame()\n",
        "            num_items_by_user.columns = ['item_cnt']\n",
        "            raw_users = list(num_items_by_user.index)\n",
        "            user2id = {u: uid for uid, u in enumerate(raw_users)}\n",
        "\n",
        "            # Build item old2new id map\n",
        "            # item_frame = num_users_by_item.to_frame()\n",
        "            num_users_by_item.columns = ['user_cnt']\n",
        "            raw_items = list(num_users_by_item.index)\n",
        "            item2id = {i: iid for iid, i in enumerate(raw_items)}\n",
        "            \n",
        "            # Convert to new id\n",
        "            raw_data.user = [user2id[u] for u in  raw_data.user.tolist()]\n",
        "            raw_data.item = [item2id[i] for i in  raw_data.item.tolist()]\n",
        "\n",
        "            # preprocess and save\n",
        "            if self.protocol == 'leave_one_out':\n",
        "                prepro_data_dict = split_into_tr_val_te(\n",
        "                    data=raw_data, \n",
        "                    generalization=self.generalization,\n",
        "                    num_valid_items=self.leave_k,\n",
        "                    num_test_items=self.leave_k,\n",
        "                    holdout_users=self.holdout_users,\n",
        "                    split_random=self.split_random,\n",
        "                    user2id=user2id,\n",
        "                    item2id=item2id)\n",
        "            elif self.protocol == 'holdout':\n",
        "                prepro_data_dict = split_into_tr_val_te(\n",
        "                    data=raw_data, \n",
        "                    generalization=self.generalization,\n",
        "                    num_valid_items=self.valid_ratio,\n",
        "                    num_test_items=self.test_ratio,\n",
        "                    holdout_users=self.holdout_users,\n",
        "                    split_random=self.split_random,\n",
        "                    user2id=user2id,\n",
        "                    item2id=item2id)\n",
        "            else:\n",
        "                raise ValueError(f'{self.protocol} is not a valid protocol.')\n",
        "            \n",
        "            for filename, filepath in prepro_dict.items():\n",
        "                prepro_data_dict[filename].to_csv(filepath, index=False, header=False)\n",
        "            \n",
        "            self._save_id_map(user2id, user2id_file)\n",
        "            self._save_id_map(item2id, item2id_file)\n",
        "\n",
        "        return prepro_dict, user2id_file, item2id_file\n",
        "\n",
        "    def _check_preprocssed(self, files_to_check: List) -> bool:\n",
        "        if not self._prepro_cache_dir.exists():\n",
        "            return False\n",
        "        \n",
        "        for filepath in files_to_check:\n",
        "            if not filepath.exists():\n",
        "                return False\n",
        "        \n",
        "        return True\n",
        "    \n",
        "    def _set_preprocessed_cache_dir(self) -> None:\n",
        "        if self._prepro_cache_dir is None:\n",
        "            random_or_not = 'random' if self.split_random else 'time'\n",
        "            if self.protocol == 'leave_one_out':\n",
        "                protocol_name = f'loo_{self.leave_k}_{self.generalization}_{random_or_not}_minUI_{self.min_item_per_user}_{self.min_user_per_item}_seed{self.seed}/'\n",
        "            elif self.protocol == 'holdout':\n",
        "                random_or_not = 'random' if self.split_random else 'time'\n",
        "                valid_ratio_str = '%.2f' % self.valid_ratio\n",
        "                test_ratio_str = '%.2f' % self.test_ratio\n",
        "                protocol_name = f'holdout_{valid_ratio_str}_{test_ratio_str}_{self.generalization}_{random_or_not}_minUI_{self.min_item_per_user}_{self.min_user_per_item}_seed{self.seed}/'\n",
        "            else:\n",
        "                raise ValueError(f'Incorrect protocol passed ({self.protocol}). Choose between leave_one_out, holdout, hold_user_out')\n",
        "            \n",
        "            self._prepro_cache_dir = Path(os.path.join(self.base_dir, self.cache_dir, protocol_name))\n",
        "        \n",
        "        if not self._prepro_cache_dir.exists():\n",
        "            os.makedirs(self._prepro_cache_dir)\n",
        "    \n",
        "    def _load_id_map(self, id_map_file: Path) -> Dict:\n",
        "        old2new = {}\n",
        "        with open(id_map_file, 'rt') as f:\n",
        "            for line in f.readlines():\n",
        "                u, uid = line.strip().split(', ')\n",
        "                old2new[int(u)] = int(uid)\n",
        "        return old2new\n",
        "    \n",
        "    def _save_id_map(self, id_map: Dict, id_map_file: Path) -> None:\n",
        "        # Write user/item id map into files\n",
        "        with open(id_map_file, 'wt') as f:\n",
        "            for u, uid in id_map.items():\n",
        "                f.write('%d, %d\\n' % (u, uid))\n",
        "\n",
        "    @property\n",
        "    def valid_input(self) -> sp.csr_matrix:\n",
        "        if self.generalization == 'weak':\n",
        "            return self.train_data\n",
        "        else:\n",
        "            return self.valid_input\n",
        "\n",
        "    @property\n",
        "    def test_input(self) -> sp.csr_matrix:\n",
        "        if self.generalization == 'weak':\n",
        "            return self.train_data + self.valid_target\n",
        "        else:\n",
        "            return self.test_input\n",
        "\n",
        "    @property\n",
        "    def num_train_users(self) -> int:\n",
        "        return len(self.train_users)\n",
        "    \n",
        "    @property\n",
        "    def num_valid_users(self) -> int:\n",
        "        return len(self.valid_users)\n",
        "\n",
        "    @property\n",
        "    def num_test_users(self) -> int:\n",
        "        return len(self.test_users)"
      ],
      "metadata": {
        "id": "DA5dfJiaVHLK"
      },
      "execution_count": null,
      "outputs": []
    },
    {
      "cell_type": "markdown",
      "source": [
        "#GENERAL"
      ],
      "metadata": {
        "id": "ndE9DHvTVwGB"
      }
    },
    {
      "cell_type": "code",
      "source": [
        "def make_log_dir(save_dir):\n",
        "    if not os.path.exists(save_dir):\n",
        "        os.makedirs(save_dir)\n",
        "\n",
        "    existing_dirs = os.listdir(save_dir)\n",
        "    if len(existing_dirs) == 0:\n",
        "        idx = 0\n",
        "    else:\n",
        "        idx_list = sorted([int(d.split('_')[0]) for d in existing_dirs])\n",
        "        idx = idx_list[-1] + 1\n",
        "\n",
        "    cur_log_dir = '%d_%s' % (idx, time.strftime('%Y%m%d-%H%M'))\n",
        "    full_log_dir = os.path.join(save_dir, cur_log_dir)\n",
        "\n",
        "    if not os.path.exists(full_log_dir):\n",
        "        os.mkdir(full_log_dir)\n",
        "    else:\n",
        "        full_log_dir = make_log_dir(save_dir)\n",
        "\n",
        "    return full_log_dir\n",
        "\n",
        "def set_random_seed(seed):\n",
        "    random.seed(seed)\n",
        "    np.random.seed(seed)\n",
        "    torch.random.manual_seed(seed)\n",
        "    if torch.cuda.is_available():\n",
        "        torch.cuda.manual_seed_all(seed)\n",
        "    torch.backends.cudnn.deterministic = True\n",
        "    torch.backends.cudnn.benchmark = False\n",
        "\n",
        "def getlocaltime():\n",
        "    date = time.strftime('%y-%m-%d', time.localtime())\n",
        "    current_time = time.strftime('%H:%M:%S', time.localtime())\n",
        "\n",
        "def seconds_to_hms(second):\n",
        "    return str(datetime.timedelta(seconds=second))"
      ],
      "metadata": {
        "id": "hLJJm9PkVxx2"
      },
      "execution_count": null,
      "outputs": []
    },
    {
      "cell_type": "markdown",
      "source": [
        "#LOGGER BASE"
      ],
      "metadata": {
        "id": "oTyfjvCuXODH"
      }
    },
    {
      "cell_type": "code",
      "source": [
        "class Logger(abc.ABC):\n",
        "    def __init__(self):\n",
        "        super().__init__()\n",
        "\n",
        "    def setup_logger(self):\n",
        "        pass\n",
        "    \n",
        "    # @abc.abstractmethod\n",
        "    # def log_hparams(self, hparams):\n",
        "    #     raise NotImplementedError('setup_logger is not implemented.')\n",
        "    \n",
        "    # @abc.abstractmethod\n",
        "    # def log_metrics(self, metrics, epoch=None):\n",
        "    #     raise NotImplementedError('setup_logger is not implemented.')\n",
        "\n",
        "    def log_image(self, image_name, image, epoch=None):\n",
        "        pass\n",
        "\n",
        "    def log_artifact(self, artifact, destination=None):\n",
        "        pass\n",
        "\n",
        "    def save(self):\n",
        "        pass\n",
        "\n",
        "    def add_dict_prefix(self, dictionary, prefix=None):\n",
        "        if prefix:\n",
        "            return {prefix + k: v for k, v in dictionary.items()}\n",
        "        else:\n",
        "            return dictionary\n",
        "    \n",
        "    # def _flatten_dict(params: Dict[str, Any], delimiter: str = '/') -> Dict[str, Any]:\n",
        "    def _flatten_dict(self, params, delimiter= '/'):\n",
        "        \"\"\"\n",
        "        Flatten hierarchical dict, e.g. ``{'a': {'b': 'c'}} -> {'a/b': 'c'}``.\n",
        "        Args:\n",
        "            params: Dictionary containing the hyperparameters\n",
        "            delimiter: Delimiter to express the hierarchy. Defaults to ``'/'``.\n",
        "        Returns:\n",
        "            Flattened dict.\n",
        "        Examples:\n",
        "            >>> LightningLoggerBase._flatten_dict({'a': {'b': 'c'}})\n",
        "            {'a/b': 'c'}\n",
        "            >>> LightningLoggerBase._flatten_dict({'a': {'b': 123}})\n",
        "            {'a/b': 123}\n",
        "        \"\"\"\n",
        "\n",
        "        def _dict_generator(input_dict, prefixes=None):\n",
        "            prefixes = prefixes[:] if prefixes else []\n",
        "            if isinstance(input_dict, MutableMapping):\n",
        "                for key, value in input_dict.items():\n",
        "                    if isinstance(value, (MutableMapping, Namespace)):\n",
        "                        value = vars(value) if isinstance(value, Namespace) else value\n",
        "                        for d in _dict_generator(value, prefixes + [key]):\n",
        "                            yield d\n",
        "                    else:\n",
        "                        yield prefixes + [key, value if value is not None else str(None)]\n",
        "            else:\n",
        "                yield prefixes + [input_dict if input_dict is None else str(input_dict)]\n",
        "\n",
        "        return {delimiter.join(keys): val for *keys, val in _dict_generator(params)}\n",
        "\n",
        "    # def _sanitize_params(params: Dict[str, Any]) -> Dict[str, Any]:\n",
        "    def _sanitize_params(self, params):\n",
        "        \"\"\"\n",
        "        Returns params with non-primitvies converted to strings for logging.\n",
        "        >>> params = {\"float\": 0.3,\n",
        "        ...           \"int\": 1,\n",
        "        ...           \"string\": \"abc\",\n",
        "        ...           \"bool\": True,\n",
        "        ...           \"list\": [1, 2, 3],\n",
        "        ...           \"namespace\": Namespace(foo=3),\n",
        "        ...           \"layer\": torch.nn.BatchNorm1d}\n",
        "        >>> import pprint\n",
        "        >>> pprint.pprint(LightningLoggerBase._sanitize_params(params))  # doctest: +NORMALIZE_WHITESPACE\n",
        "        {'bool': True,\n",
        "         'float': 0.3,\n",
        "         'int': 1,\n",
        "         'layer': \"<class 'torch.nn.modules.batchnorm.BatchNorm1d'>\",\n",
        "         'list': '[1, 2, 3]',\n",
        "         'namespace': 'Namespace(foo=3)',\n",
        "         'string': 'abc'}\n",
        "        \"\"\"\n",
        "        return {k: v if type(v) in [bool, int, float, str, torch.Tensor] else str(v) for k, v in params.items()}"
      ],
      "metadata": {
        "id": "0_-d3ZdnXPxd"
      },
      "execution_count": null,
      "outputs": []
    },
    {
      "cell_type": "markdown",
      "source": [
        "#FILE LOGGER"
      ],
      "metadata": {
        "id": "aRZ7c7xQXjLx"
      }
    },
    {
      "cell_type": "code",
      "source": [
        "class FileLogger(Logger):\n",
        "    def __init__(self, log_dir):\n",
        "        log_file_format = \"[%(lineno)d]%(asctime)s: %(message)s\"\n",
        "        log_console_format = \"%(message)s\"\n",
        "\n",
        "        # Main logger\n",
        "        self.log_dir = log_dir\n",
        "\n",
        "        self.logger = logging.getLogger(log_dir)\n",
        "        self.logger.setLevel(logging.INFO)\n",
        "        self.logger.propagate = False\n",
        "\n",
        "        console_handler = logging.StreamHandler()\n",
        "        console_handler.setLevel(logging.INFO)\n",
        "        console_handler.setFormatter(logging.Formatter(log_console_format))\n",
        "        self.logger.addHandler(console_handler)\n",
        "\n",
        "        file_handler = logging.FileHandler(os.path.join(log_dir, 'experiments.log'))\n",
        "        file_handler.setLevel(logging.DEBUG)\n",
        "        file_handler.setFormatter(logging.Formatter(log_file_format))\n",
        "        self.logger.addHandler(file_handler)\n",
        "    \n",
        "    def log_metrics(self, metrics, epoch=None, prefix=None):\n",
        "        log_str = ''\n",
        "        if epoch is not None:\n",
        "            log_str += '[epoch %3d]' % epoch\n",
        "        \n",
        "        metric_str_list = ['%s=%.4f' % (k, v) for k, v in metrics.items()]\n",
        "        log_str += ', '.join(metric_str_list)\n",
        "\n",
        "        self.info(log_str)\n",
        "    \n",
        "    def save(self):\n",
        "        pass\n",
        "    \n",
        "    def info(self, msg):\n",
        "        self.logger.info(msg)\n",
        "\n",
        "    def close(self):\n",
        "        for handle in self.logger.handlers:\n",
        "            handle.close()\n",
        "            self.logger.removeHandler(handle)"
      ],
      "metadata": {
        "id": "sSRgsxtBXkil"
      },
      "execution_count": null,
      "outputs": []
    },
    {
      "cell_type": "markdown",
      "source": [
        "#CSV LOGGER"
      ],
      "metadata": {
        "id": "FJna4TDvYYPr"
      }
    },
    {
      "cell_type": "code",
      "source": [
        "class CSVLogger(Logger):\n",
        "    \n",
        "    LOG_FILE = 'results.csv'\n",
        "\n",
        "    def __init__(self, log_dir):\n",
        "        self.log_dir = log_dir\n",
        "        self.hparams = {}\n",
        "        self.metrics_history = None\n",
        "        self.headers = None\n",
        "    \n",
        "    def log_metrics(self, metrics, epoch=None, prefix=None):\n",
        "        if prefix:\n",
        "            metrics = self.add_dict_prefix(metrics)\n",
        "            \n",
        "        if self.metrics_history is None:\n",
        "            self.metrics_history = []\n",
        "            self.headers = list(metrics.keys())\n",
        "            if 'epoch' not in self.headers:\n",
        "                self.headers = ['epoch'] + self.headers\n",
        "\n",
        "        for key in self.headers:\n",
        "            if key not in metrics:\n",
        "                metrics[key] = ' - '\n",
        "        \n",
        "        for key in metrics:\n",
        "            if key not in self.headers:\n",
        "                self.headers.append(key)\n",
        "        \n",
        "        if epoch is None:\n",
        "            epoch = len(self.metrics_history)\n",
        "\n",
        "        metrics['epoch'] = epoch\n",
        "\n",
        "        self.metrics_history.append(self.ensure_ordered_dict(metrics))\n",
        "    \n",
        "    def check_columns(self, d):\n",
        "        pass\n",
        "    \n",
        "    def ensure_ordered_dict(self, d):\n",
        "        if isinstance(d, OrderedDict):\n",
        "            return d\n",
        "        else:\n",
        "            return OrderedDict(d)\n",
        "    \n",
        "    def save(self):\n",
        "        if not self.metrics_history:\n",
        "            return\n",
        "\n",
        "        if 'train_loss' in self.headers:\n",
        "            idx = self.headers.index('train_loss')\n",
        "            self.headers = [self.headers.pop(idx)] + self.headers\n",
        "        if 'elapsed' in self.headers:\n",
        "            idx = self.headers.index('elapsed')\n",
        "            self.headers = [self.headers.pop(idx)] + self.headers\n",
        "        if 'epoch' in self.headers:\n",
        "            idx = self.headers.index('epoch')\n",
        "            self.headers = [self.headers.pop(idx)] + self.headers\n",
        "        \n",
        "        log_file = os.path.join(self.log_dir, self.LOG_FILE)\n",
        "        with io.open(log_file, 'w', newline='') as f:\n",
        "            self.writer = csv.DictWriter(f, fieldnames=self.headers)\n",
        "            self.writer.writeheader()\n",
        "            self.writer.writerows(self.metrics_history)"
      ],
      "metadata": {
        "id": "LVmDBcFjYZ3d"
      },
      "execution_count": null,
      "outputs": []
    },
    {
      "cell_type": "code",
      "source": [
        "HOLDOUT_METRICS = ['Prec', 'Recall', 'NDCG']\n",
        "LOO_METRICS = ['HR', 'NDCG']\n",
        "\n",
        "def compute_loo_metrics_py(pred, target, ks):\n",
        "    score_cumulator = OrderedDict()\n",
        "    for metric in LOO_METRICS:\n",
        "        score_cumulator[metric] = {k: Statistics('%s@%d' % (metric, k)) for k in ks}\n",
        "    \n",
        "    max_k = max(ks)\n",
        "    for idx, u in enumerate(target):\n",
        "        pred_u = pred[idx]\n",
        "        target_u = target[u][0]\n",
        "        \n",
        "        hit_at_k = np.where(pred_u == target_u)[0][0] + 1 if target_u in pred_u else max_k + 1\n",
        "\n",
        "        for k in ks:\n",
        "            hr_k = 1 if hit_at_k <= k else 0\n",
        "            ndcg_k = 1 / math.log(hit_at_k + 1, 2) if hit_at_k <= k else 0\n",
        "\n",
        "            score_cumulator['HR'][k].update(hr_k)\n",
        "            score_cumulator['NDCG'][k].update(ndcg_k)\n",
        "\n",
        "    return score_cumulator\n",
        "def compute_holdout_metrics_py(pred, target, ks):\n",
        "    score_cumulator = OrderedDict()\n",
        "    for metric in HOLDOUT_METRICS:\n",
        "        score_cumulator[metric] = {k: Statistics('%s@%d' % (metric, k)) for k in ks}\n",
        "    \n",
        "    hits = []\n",
        "    for idx, u in enumerate(target):\n",
        "        pred_u = pred[idx]\n",
        "        target_u = target[u]\n",
        "        num_target_items = len(target_u)\n",
        "        for k in ks:\n",
        "            pred_k = pred_u[:k]\n",
        "            hits_k = [(i + 1, item) for i, item in enumerate(pred_k) if item in target_u]\n",
        "            num_hits = len(hits_k)\n",
        "\n",
        "            idcg_k = 0.0\n",
        "            for i in range(1, min(num_target_items, k) + 1):\n",
        "                idcg_k += 1 / math.log(i + 1, 2)\n",
        "\n",
        "            dcg_k = 0.0\n",
        "            for idx, item in hits_k:\n",
        "                dcg_k += 1 / math.log(idx + 1, 2)\n",
        "            \n",
        "            prec_k = num_hits / k\n",
        "            recall_k = num_hits / num_target_items\n",
        "            ndcg_k = dcg_k / idcg_k\n",
        "\n",
        "            score_cumulator['Prec'][k].update(prec_k)\n",
        "            score_cumulator['Recall'][k].update(recall_k)\n",
        "            score_cumulator['NDCG'][k].update(ndcg_k)\n",
        "        \n",
        "            hits.append(len(hits_k))\n",
        "    return score_cumulator\n",
        "def predict_topk_py(scores, max_k):\n",
        "    # top_k item index (not sorted)\n",
        "    #s = time()\n",
        "    relevant_items_partition = (-scores).argpartition(max_k, 1)[:, 0:max_k]\n",
        "    \n",
        "    # top_k item score (not sorted)\n",
        "    relevant_items_partition_original_value = np.take_along_axis(scores, relevant_items_partition, 1)\n",
        "    \n",
        "    # top_k item sorted index for partition\n",
        "    relevant_items_partition_sorting = np.argsort(-relevant_items_partition_original_value, 1)\n",
        "    \n",
        "    # sort top_k index\n",
        "    topk = np.take_along_axis(relevant_items_partition, relevant_items_partition_sorting, 1)\n",
        "\n",
        "    return topk\n",
        "print('evaluation with python backend...')\n",
        "    \n",
        "eval_func_router = {\n",
        "        'leave_one_out': compute_loo_metrics_py,\n",
        "        'holdout': compute_holdout_metrics_py\n",
        "    }\n",
        "predict_topk_func = predict_topk_py"
      ],
      "metadata": {
        "colab": {
          "base_uri": "https://localhost:8080/"
        },
        "id": "XljvPOA1am7Q",
        "outputId": "9baaa9c2-e316-4761-a7da-3e41a4a1c633"
      },
      "execution_count": null,
      "outputs": [
        {
          "output_type": "stream",
          "name": "stdout",
          "text": [
            "evaluation with python backend...\n"
          ]
        }
      ]
    },
    {
      "cell_type": "markdown",
      "source": [
        "#DATA BATCHER"
      ],
      "metadata": {
        "id": "yZcFrOxXcFzK"
      }
    },
    {
      "cell_type": "code",
      "source": [
        "class BatchSampler:\n",
        "    def __init__(self, data_size, batch_size, drop_remain=False, shuffle=False):\n",
        "        self.data_size = data_size\n",
        "        self.batch_size = batch_size\n",
        "        self.drop_remain = drop_remain\n",
        "        self.shuffle = shuffle\n",
        "\n",
        "    def __iter__(self):\n",
        "        if self.shuffle:\n",
        "            perm = np.random.permutation(self.data_size)\n",
        "        else:\n",
        "            perm = range(self.data_size)\n",
        "\n",
        "        batch_idx = []\n",
        "        for idx in perm:\n",
        "            batch_idx.append(idx)\n",
        "            if len(batch_idx) == self.batch_size:\n",
        "                yield batch_idx\n",
        "                batch_idx = []\n",
        "        if len(batch_idx) > 0 and not self.drop_remain:\n",
        "            yield batch_idx\n",
        "\n",
        "    def __len__(self):\n",
        "        if self.drop_remain:\n",
        "            return self.data_size // self.batch_size\n",
        "        else:\n",
        "            return int(np.ceil(self.data_size / self.batch_size))\n",
        "\n",
        "class DataBatcher:\n",
        "    def __init__(self, *data_source, batch_size, drop_remain=False, shuffle=False):\n",
        "        self.data_source = list(data_source)\n",
        "        self.batch_size = batch_size\n",
        "        self.drop_remain = drop_remain\n",
        "        self.shuffle = shuffle\n",
        "\n",
        "        for i, d in enumerate(self.data_source):\n",
        "            if isinstance(d, list):\n",
        "                self.data_source[i] = np.array(d)\n",
        "\n",
        "        self.data_size = len(self.data_source[0])\n",
        "        if len(self.data_source)> 1:\n",
        "            flag = np.all([len(src) == self.data_size for src in self.data_source])\n",
        "            if not flag:\n",
        "                raise ValueError(\"All elements in data_source should have same lengths\")\n",
        "\n",
        "        self.sampler = BatchSampler(self.data_size, self.batch_size, self.drop_remain, self.shuffle)\n",
        "        self.iterator = iter(self.sampler)\n",
        "\n",
        "        self.n=0\n",
        "\n",
        "    def __next__(self):\n",
        "        batch_idx = next(self.iterator)\n",
        "        batch_data = tuple([data[batch_idx] for data in self.data_source])\n",
        "\n",
        "        if len(batch_data) == 1:\n",
        "            batch_data = batch_data[0]\n",
        "        return batch_data\n",
        "\n",
        "    def __iter__(self):\n",
        "        return self\n",
        "\n",
        "    def __len__(self):\n",
        "        return len(self.sampler)"
      ],
      "metadata": {
        "id": "Xn88TL17cFfc"
      },
      "execution_count": null,
      "outputs": []
    },
    {
      "cell_type": "markdown",
      "source": [
        "#DATA MATRIX GENERATOR"
      ],
      "metadata": {
        "id": "QhT88YPGddxo"
      }
    },
    {
      "cell_type": "code",
      "source": [
        "class MatrixGenerator:\n",
        "    def __init__(self, input_matrix, return_index=False, batch_size=32, shuffle=True, \n",
        "                        matrix_as_numpy=False, index_as_numpy=False, device=None):\n",
        "        super().__init__()\n",
        "        self.input_matrix = input_matrix\n",
        "        self.return_index = return_index\n",
        "        self._num_data = self.input_matrix.shape[0]\n",
        "        self.batch_size = batch_size\n",
        "        self.shuffle = shuffle\n",
        "        self.matrix_as_numpy = matrix_as_numpy\n",
        "        self.index_as_numpy = index_as_numpy\n",
        "        self.device = device\n",
        "    \n",
        "    def __len__(self):\n",
        "        return int(np.ceil(self._num_data / self.batch_size))\n",
        "\n",
        "    def __iter__(self):\n",
        "        if self.shuffle:\n",
        "            perm = np.random.permutation(self._num_data)\n",
        "        else:\n",
        "            perm = np.arange(self._num_data, dtype=np.int32)\n",
        "\n",
        "        for b, st in enumerate(range(0, self._num_data, self.batch_size)):\n",
        "            ed = min(st + self.batch_size, self._num_data)\n",
        "            batch_idx = perm[st:ed]\n",
        "            \n",
        "            if self.matrix_as_numpy:\n",
        "                batch_input = self.input_matrix[batch_idx].toarray()\n",
        "            else:\n",
        "                batch_input = torch.tensor(self.input_matrix[batch_idx].toarray(),\n",
        "                                            dtype=torch.float32, device=self.device)\n",
        "            \n",
        "            if self.return_index:\n",
        "                if not self.index_as_numpy:\n",
        "                    batch_idx = torch.tensor(batch_idx, dtype=torch.int64, device=self.device)\n",
        "                yield batch_input, batch_idx\n",
        "            else:\n",
        "                yield batch_input\n",
        "\n",
        "class PointwiseGenerator:\n",
        "    def __init__(self, input_matrix, return_rating=True, as_numpy=False, negative_sample=True, num_negatives=1, batch_size=32, shuffle=True, device=None):\n",
        "        super().__init__()\n",
        "        self.input_matrix = input_matrix\n",
        "        self.return_rating = return_rating\n",
        "        self.negative_sample = negative_sample\n",
        "        self.num_negatives = num_negatives\n",
        "        self.as_numpy = as_numpy\n",
        "        \n",
        "        self.batch_size = batch_size\n",
        "        self.shuffle = shuffle\n",
        "        self.device = device\n",
        "\n",
        "        self._construct()\n",
        "\n",
        "    def _construct(self):\n",
        "        num_users, num_items = self.input_matrix.shape\n",
        "\n",
        "        self.users = []\n",
        "        self.items = []\n",
        "        self.ratings = []\n",
        "        for u in range(num_users):\n",
        "            u_items = self.input_matrix[u].indices\n",
        "            u_ratings = self.input_matrix[u].data\n",
        "\n",
        "            self.users += [u] * len(u_items)\n",
        "            self.items += u_items.tolist()\n",
        "            if self.return_rating:\n",
        "                self.ratings += u_ratings.tolist()\n",
        "        \n",
        "        self.users = np.array(self.users)\n",
        "        self.items = np.array(self.items)\n",
        "        self.ratings = np.array(self.ratings)\n",
        "\n",
        "        self._num_data = len(self.users)\n",
        "    \n",
        "    def sample_negatives(self, users):\n",
        "        num_users, num_items = self.input_matrix.shape\n",
        "        users = []\n",
        "        negatives = []\n",
        "\n",
        "        for u in range(num_users):\n",
        "            u_pos_items = self.input_matrix[u].indices\n",
        "            \n",
        "            prob = np.ones(num_items)\n",
        "            prob[u_pos_items] = 0.0\n",
        "            prob = prob / sum(prob)\n",
        "\n",
        "            neg_samples = np.random.choice(num_items, size=self.num_negatives, replace=False, p=prob)\n",
        "\n",
        "            users += [u] * len(neg_samples)\n",
        "            negatives += neg_samples.tolist()\n",
        "        \n",
        "        users = np.array(users)\n",
        "        negatives = np.array(negatives)\n",
        "        ratings = np.zeros_like(users)\n",
        "\n",
        "        return users, negatives, ratings\n",
        "\n",
        "    def __len__(self):  \n",
        "        return int(np.ceil(self._num_data / self.batch_size))\n",
        "\n",
        "    def __iter__(self):\n",
        "        if self.shuffle:\n",
        "            perm = np.random.permutation(self._num_data)\n",
        "        else:\n",
        "            perm = np.arange(self._num_data)\n",
        "\n",
        "        for b, st in enumerate(range(0, self._num_data, self.batch_size)):\n",
        "            ed = min(st + self.batch_size, self._num_data)\n",
        "            batch_idx = perm[st:ed]\n",
        "\n",
        "            batch_users = self.users[batch_idx]\n",
        "            batch_items = self.items[batch_idx]\n",
        "            if self.return_rating:\n",
        "                batch_ratings = self.ratings[batch_idx]\n",
        "\n",
        "                if self.negative_sample and self.num_negatives > 0:\n",
        "                    neg_users, neg_items, neg_ratings = self.sample_negatives(batch_users)\n",
        "                    \n",
        "                    batch_users = np.concatenate((batch_users, neg_users))\n",
        "                    batch_items = np.concatenate((batch_items, neg_items))\n",
        "                    batch_ratings = np.concatenate((batch_ratings, neg_ratings))\n",
        "            \n",
        "                if not self.as_numpy:\n",
        "                    batch_users = torch.tensor(batch_users, dtype=torch.long, device=self.device)\n",
        "                    batch_items = torch.tensor(batch_items, dtype=torch.long, device=self.device)\n",
        "                    batch_ratings = torch.tensor(batch_ratings, dtype=torch.float32, device=self.device)\n",
        "                yield batch_users, batch_items, batch_ratings\n",
        "            else:\n",
        "                if not self.as_numpy:\n",
        "                    batch_users = torch.tensor(batch_users, dtype=torch.long, device=self.device)\n",
        "                    batch_items = torch.tensor(batch_items, dtype=torch.long, device=self.device)\n",
        "                yield batch_users, batch_items\n",
        "\n",
        "class PairwiseGenerator:\n",
        "    def __init__(self, input_matrix, as_numpy=False, num_positives_per_user=-1, num_negatives=1, batch_size=32, shuffle=True, device=None):\n",
        "        self.input_matrix = input_matrix\n",
        "        self.num_positives_per_user = num_positives_per_user\n",
        "        self.num_negatives = num_negatives\n",
        "        self.as_numpy = as_numpy\n",
        "        \n",
        "        self.batch_size = batch_size\n",
        "        self.shuffle = shuffle\n",
        "        self.device = device\n",
        "\n",
        "        self._construct()\n",
        "\n",
        "    def _construct(self):\n",
        "        num_users, num_items = self.input_matrix.shape\n",
        "\n",
        "        self._data = self.sample_negatives()\n",
        "        self._num_data = len(self._data[0])\n",
        "    \n",
        "    def sample_negatives(self):\n",
        "        num_users, num_items = self.input_matrix.shape\n",
        "        users = []\n",
        "        positives = []\n",
        "        negatives = []\n",
        "\n",
        "        for u in range(num_users):\n",
        "            u_pos_items = self.input_matrix[u].indices\n",
        "            num_pos_user = len(u_pos_items)\n",
        "\n",
        "            prob = np.ones(num_items)\n",
        "            prob[u_pos_items] = 0.0\n",
        "            prob = prob / sum(prob)\n",
        "\n",
        "            if self.num_positives_per_user > 0 and self.num_positives_per_user < num_pos_user:\n",
        "                # subsample\n",
        "                pos_sampled = np.random.choice(num_items, size=self.num_positives_per_user, replace=False)\n",
        "                neg_sampled = np.random.choice(num_items, size=self.num_positives_per_user, replace=False, p=prob)\n",
        "            else:\n",
        "                # sample all\n",
        "                pos_sampled = u_pos_items\n",
        "                neg_sampled = np.random.choice(num_items, size=num_pos_user, replace=False, p=prob)\n",
        "            \n",
        "            assert len(pos_sampled) == len(neg_sampled)\n",
        "\n",
        "            users += [u] * len(neg_sampled)\n",
        "            positives += pos_sampled.tolist()\n",
        "            negatives += neg_sampled.tolist()\n",
        "        \n",
        "        users = np.array(users)\n",
        "        positives = np.array(positives)\n",
        "        negatives = np.array(negatives)\n",
        "\n",
        "        return users, positives, negatives\n",
        "\n",
        "    def __len__(self):  \n",
        "        return int(np.ceil(self._num_data / self.batch_size))\n",
        "\n",
        "    def __iter__(self):\n",
        "        if self.shuffle:\n",
        "            perm = np.random.permutation(self._num_data)\n",
        "        else:\n",
        "            perm = np.arange(self._num_data)\n",
        "\n",
        "        for b, st in enumerate(range(0, self._num_data, self.batch_size)):\n",
        "            ed = min(st + self.batch_size, self._num_data)\n",
        "            batch_idx = perm[st:ed]\n",
        "\n",
        "            batch_users = self._data[0][batch_idx]\n",
        "            batch_pos = self._data[1][batch_idx]\n",
        "            batch_neg = self._data[2][batch_idx]\n",
        "\n",
        "            if not self.as_numpy:\n",
        "                batch_users = torch.tensor(batch_users, dtype=torch.long, device=self.device)\n",
        "                batch_pos = torch.tensor(batch_pos, dtype=torch.long, device=self.device)\n",
        "                batch_neg = torch.tensor(batch_neg, dtype=torch.long, device=self.device)\n",
        "            yield batch_users, batch_pos, batch_neg"
      ],
      "metadata": {
        "id": "xgRCmVNudfb8"
      },
      "execution_count": null,
      "outputs": []
    },
    {
      "cell_type": "markdown",
      "source": [
        "#EVALUATOR"
      ],
      "metadata": {
        "id": "CriwrslSccbU"
      }
    },
    {
      "cell_type": "code",
      "source": [
        "class Evaluator:\n",
        "    def __init__(self, eval_input, eval_target, protocol, ks, eval_batch_size=1024):\n",
        "        \"\"\"\n",
        "\n",
        "        \"\"\"\n",
        "        self.top_k = sorted(list(ks)) if isinstance(ks, Iterable) else [ks]\n",
        "        self.max_k = max(self.top_k)\n",
        "        \n",
        "        self.batch_size = eval_batch_size\n",
        "        self.eval_input = eval_input\n",
        "        self.eval_target = sparse_to_dict(eval_target)\n",
        "\n",
        "        self.protocol = protocol\n",
        "\n",
        "        self._register_eval_func()\n",
        "    \n",
        "    def evaluate(self, model, mean=True):\n",
        "        # Switch to eval mode\n",
        "        model.eval()\n",
        "\n",
        "        # eval users\n",
        "        eval_users = np.array(list(self.eval_target.keys()))\n",
        "        num_users = len(eval_users)\n",
        "        num_items = self.eval_input.shape\n",
        "\n",
        "        output = model.predict(eval_users, self.eval_input, self.batch_size)\n",
        "\n",
        "        pred = self.predict_topk(output.astype(np.float32), self.max_k)\n",
        "\n",
        "        score_cumulator = self.eval_func(pred, self.eval_target, self.top_k)\n",
        "\n",
        "        scores = {}\n",
        "        list_scores = []\n",
        "        for metric in score_cumulator:\n",
        "            score_by_ks = score_cumulator[metric]\n",
        "            for k in score_by_ks:\n",
        "                if mean:\n",
        "                    scores['%s@%d' % (metric, k)] = score_by_ks[k].mean\n",
        "                    list_scores.append(score_by_ks[k].mean)\n",
        "                else:\n",
        "                    scores['%s@%d' % (metric, k)] = score_by_ks[k].history\n",
        "                    list_scores.append(score_by_ks[k].history)\n",
        "        # return\n",
        "        #print(\"DICTIONARY: \",scores)\n",
        "        return scores#, list_scores\n",
        "    \n",
        "    def _register_eval_func(self):\n",
        "        self.eval_func = eval_func_router[self.protocol]\n",
        "        self.predict_topk = predict_topk_func"
      ],
      "metadata": {
        "id": "4SMUwA3Xcd1B"
      },
      "execution_count": null,
      "outputs": []
    },
    {
      "cell_type": "markdown",
      "source": [
        "#EARLY STOP (experiment)"
      ],
      "metadata": {
        "id": "7JKXg_fHdPl9"
      }
    },
    {
      "cell_type": "code",
      "source": [
        "class EarlyStop:\n",
        "    def __init__(self, early_stop, early_stop_measure):\n",
        "        self.endure = 0\n",
        "        self.early_stop = early_stop\n",
        "        self.early_stop_measure = early_stop_measure\n",
        "\n",
        "        self.best_epoch = None\n",
        "        self.best_score = None\n",
        "\n",
        "    def initialize(self):\n",
        "        self.best_epoch = None\n",
        "        self.best_score = None\n",
        "\n",
        "    def step(self, score, epoch):\n",
        "        # Always continue (shoudl_stop=False) if early_stop is not used\n",
        "\n",
        "        if self.early_stop_measure == 'all':\n",
        "            # Early stop if 'every' measure doesn't improve\n",
        "            # Save individual best score & epoch\n",
        "            if self.best_score is None:\n",
        "                best_score = score\n",
        "                self.best_epoch = {m: epoch for m in best_score}\n",
        "                not_updated = False\n",
        "            else:\n",
        "                not_updated = True\n",
        "                for metric in self.best_score:\n",
        "                    if score[metric] > self.best_score[metric]:\n",
        "                        self.best_score[metric] = score[metric]\n",
        "                        self.best_epoch[metric] = epoch\n",
        "                        not_updated = False\n",
        "        else:\n",
        "            # Early stop if specific measure doesn't improve\n",
        "            # Save best score & epoch at the best epoch of the standard measure\n",
        "            if self.best_score is None:\n",
        "                self.best_score = score\n",
        "                self.best_epoch = epoch\n",
        "                not_updated = False\n",
        "            else:\n",
        "                if score[self.early_stop_measure] > self.best_score[self.early_stop_measure]:\n",
        "                    self.best_epoch = epoch\n",
        "                    self.best_score = score\n",
        "                    not_updated = False\n",
        "                else:\n",
        "                    not_updated = True\n",
        "\n",
        "        should_stop = False\n",
        "        if not_updated:\n",
        "            self.endure += 1\n",
        "            if self.early_stop and self.endure >= self.early_stop:\n",
        "                should_stop = True\n",
        "        else:\n",
        "            self.endure = 0\n",
        "            should_stop = False\n",
        "        \n",
        "        if self.early_stop < 1:\n",
        "            should_stop = False\n",
        "\n",
        "        return not not_updated, should_stop"
      ],
      "metadata": {
        "id": "TssMx003dSls"
      },
      "execution_count": null,
      "outputs": []
    },
    {
      "cell_type": "markdown",
      "source": [
        "#BASE MODEL"
      ],
      "metadata": {
        "id": "3kWf14PVdE4K"
      }
    },
    {
      "cell_type": "code",
      "source": [
        "class BaseModel(nn.Module):\n",
        "    def __init__(self):\n",
        "        super(BaseModel, self).__init__()\n",
        "\n",
        "    def forward(self, *input):\n",
        "        pass\n",
        "\n",
        "    def fit(self, *input):\n",
        "        pass\n",
        "\n",
        "    def predict(self, eval_users, eval_pos, test_batch_size):\n",
        "        pass"
      ],
      "metadata": {
        "id": "3PJeTn3SdGkc"
      },
      "execution_count": null,
      "outputs": []
    },
    {
      "cell_type": "markdown",
      "source": [
        "#MULT-VAE MODEL"
      ],
      "metadata": {
        "id": "sEL0B3jydtQ2"
      }
    },
    {
      "cell_type": "code",
      "source": [
        "class MultVAE(BaseModel):\n",
        "    def __init__(self, dataset, hparams, device):\n",
        "        super(MultVAE, self).__init__()\n",
        "        self.num_users = dataset.num_users\n",
        "        self.num_items = dataset.num_items\n",
        "        \n",
        "        if isinstance(hparams['enc_dims'], str):\n",
        "            hparams['enc_dims'] = eval(hparams['enc_dims'])\n",
        "        self.enc_dims = [self.num_items] + list(hparams['enc_dims'])\n",
        "        self.dec_dims = self.enc_dims[::-1]\n",
        "        self.dims = self.enc_dims + self.dec_dims[1:]\n",
        "\n",
        "        self.total_anneal_steps = hparams['total_anneal_steps']\n",
        "        self.anneal_cap = hparams['anneal_cap']\n",
        "\n",
        "        self.dropout = hparams['dropout']\n",
        "\n",
        "        self.eps = 1e-6\n",
        "        self.anneal = 0.\n",
        "        self.update_count = 0\n",
        "\n",
        "        self.device = device\n",
        "\n",
        "        self.encoder = nn.ModuleList()\n",
        "        for i, (d_in, d_out) in enumerate(zip(self.enc_dims[:-1], self.enc_dims[1:])):\n",
        "            if i == len(self.enc_dims[:-1]) - 1:\n",
        "                d_out *= 2\n",
        "            self.encoder.append(nn.Linear(d_in, d_out))\n",
        "            if i != len(self.enc_dims[:-1]) - 1:\n",
        "                self.encoder.append(nn.Tanh())\n",
        "\n",
        "        self.decoder = nn.ModuleList()\n",
        "        for i, (d_in, d_out) in enumerate(zip(self.dec_dims[:-1], self.dec_dims[1:])):\n",
        "            self.decoder.append(nn.Linear(d_in, d_out))\n",
        "            if i != len(self.dec_dims[:-1]) - 1:\n",
        "                self.decoder.append(nn.Tanh())\n",
        "\n",
        "        self.to(self.device)\n",
        "\n",
        "        self.optimizer = torch.optim.Adam(self.parameters(), lr=0.001)\n",
        "\n",
        "    def forward(self, rating_matrix):\n",
        "        # encoder\n",
        "        h = F.dropout(F.normalize(rating_matrix), p=self.dropout, training=self.training)\n",
        "        for layer in self.encoder:\n",
        "            h = layer(h)\n",
        "\n",
        "        # sample\n",
        "        mu_q = h[:, :self.enc_dims[-1]]\n",
        "        logvar_q = h[:, self.enc_dims[-1]:]  # log sigmod^2  batch x 200\n",
        "        std_q = torch.exp(0.5 * logvar_q)  # sigmod batch x 200\n",
        "\n",
        "        epsilon = torch.zeros_like(std_q).normal_(mean=0, std=0.01)\n",
        "        sampled_z = mu_q + self.training * epsilon * std_q\n",
        "\n",
        "        output = sampled_z\n",
        "        for layer in self.decoder:\n",
        "            output = layer(output)\n",
        "\n",
        "        if self.training:\n",
        "            kl_loss = ((0.5 * (-logvar_q + torch.exp(logvar_q) + torch.pow(mu_q, 2) - 1)).sum(1)).mean()\n",
        "            return output, kl_loss\n",
        "        else:\n",
        "            return output\n",
        "\n",
        "    def fit(self, dataset, exp_config, evaluator=None, early_stop=None, loggers=None):\n",
        "        # user, item, rating pairs\n",
        "        loss = []\n",
        "        list_scores = []\n",
        "        train_matrix = dataset.train_data\n",
        "\n",
        "        num_training = train_matrix.shape[0]\n",
        "        num_batches = int(np.ceil(num_training / exp_config.batch_size))\n",
        "\n",
        "        batch_generator = MatrixGenerator(train_matrix, batch_size=exp_config.batch_size, shuffle=True, device=self.device)\n",
        "        \n",
        "        for epoch in range(1, exp_config.num_epochs + 1):\n",
        "            self.train()\n",
        "            epoch_loss = 0.0\n",
        "            for b, batch_matrix in enumerate(batch_generator):\n",
        "                self.optimizer.zero_grad()\n",
        "\n",
        "                if self.total_anneal_steps > 0:\n",
        "                    self.anneal = min(self.anneal_cap, 1. * self.update_count / self.total_anneal_steps)\n",
        "                else:\n",
        "                    self.anneal = self.anneal_cap\n",
        "\n",
        "                pred_matrix, kl_loss = self.forward(batch_matrix)\n",
        "\n",
        "                # cross_entropy\n",
        "                ce_loss = F.binary_cross_entropy_with_logits(pred_matrix, batch_matrix, reduction='none').sum(1).mean()\n",
        "                batch_loss = ce_loss + kl_loss * self.anneal\n",
        "                batch_loss.backward()\n",
        "                self.optimizer.step()\n",
        "\n",
        "                self.update_count += 1\n",
        "\n",
        "                epoch_loss += batch_loss\n",
        "\n",
        "                if exp_config.verbose and b % 50 == 0:\n",
        "                    print('(%3d / %3d) loss = %.4f' % (b, num_batches, batch_loss))\n",
        "            loss.append(epoch_loss)\n",
        "            epoch_summary = {'loss': epoch_loss}\n",
        "            \n",
        "            # Evaluate if necessary\n",
        "            if evaluator is not None and epoch >= exp_config.test_from and epoch % exp_config.test_step == 0:\n",
        "                scores = evaluator.evaluate(self)\n",
        "                for metric, score in scores.items():\n",
        "                  list_scores.append(score)\n",
        "                epoch_summary.update(scores)\n",
        "                if loggers is not None:\n",
        "                    for logger in loggers:\n",
        "                        logger.log_metrics(epoch_summary, epoch=epoch)\n",
        "                \n",
        "                ## Check early stop\n",
        "                if early_stop is not None:\n",
        "                    is_update, should_stop = early_stop.step(scores, epoch)\n",
        "                    if should_stop:\n",
        "                        break\n",
        "            else:\n",
        "                if loggers is not None:\n",
        "                    for logger in loggers:\n",
        "                        logger.log_metrics(epoch_summary, epoch=epoch)\n",
        "            #scores.append(scores)\n",
        "        best_score = early_stop.best_score if early_stop is not None else scores\n",
        "        return {'scores': best_score}, loss, list_scores\n",
        "\n",
        "    def predict(self, eval_users, eval_pos, test_batch_size):\n",
        "      \"\"\"\n",
        "        Predict the model on test set\n",
        "        :param eval_users: evaluation (test) user\n",
        "        :param eval_pos: position of the evaluated (test) item\n",
        "        :param test_batch_size: batch size for test set\n",
        "        :return: predictions\n",
        "      \"\"\"\n",
        "      with torch.no_grad():\n",
        "            input_matrix = torch.FloatTensor(eval_pos.toarray()).to(self.device)\n",
        "            preds = np.zeros(eval_pos.shape)\n",
        "\n",
        "            num_data = input_matrix.shape[0]\n",
        "            num_batches = int(np.ceil(num_data / test_batch_size))\n",
        "            perm = list(range(num_data))\n",
        "            for b in range(num_batches):\n",
        "                if (b + 1) * test_batch_size >= num_data:\n",
        "                    batch_idx = perm[b * test_batch_size:]\n",
        "                else:\n",
        "                    batch_idx = perm[b * test_batch_size: (b + 1) * test_batch_size]\n",
        "                test_batch_matrix = input_matrix[batch_idx]\n",
        "                batch_pred_matrix = self.forward(test_batch_matrix)\n",
        "                preds[batch_idx] = batch_pred_matrix.detach().cpu().numpy()\n",
        "      preds[eval_pos.nonzero()] = float('-inf')\n",
        "\n",
        "      return preds"
      ],
      "metadata": {
        "id": "xHuOmHbGdvuV"
      },
      "execution_count": null,
      "outputs": []
    },
    {
      "cell_type": "markdown",
      "source": [
        "#CONFIGURATION"
      ],
      "metadata": {
        "id": "PkGdnrF9Hfe5"
      }
    },
    {
      "cell_type": "code",
      "source": [
        "@dataclass\n",
        "class DatasetConfig:\n",
        "    data_path:str='datasets/ml-1m/ratings.dat'\n",
        "    dataname:str='ml-1m'\n",
        "    separator:str='::'\n",
        "    binarize_threshold:float=0.0\n",
        "    implicit:bool=True\n",
        "    min_item_per_user:int=10\n",
        "    min_user_per_item:int=1\n",
        "\n",
        "    protocol:str='holdout' # holdout, leave_one_out\n",
        "    generalization:str='weak' # weak/strong\n",
        "    holdout_users:int=600\n",
        "\n",
        "    valid_ratio:float=0.1\n",
        "    test_ratio:float=0.2\n",
        "    leave_k:int=1\n",
        "    split_random:bool=True\n",
        "\n",
        "@dataclass\n",
        "class EvaluatorConfig:\n",
        "    ks:List[int] = field(default_factory=lambda: [20,50,100])\n",
        "\n",
        "@dataclass\n",
        "class EarlyStopConfig:\n",
        "    early_stop:int=25\n",
        "    early_stop_measure:str='NDCG@100'\n",
        "\n",
        "@dataclass\n",
        "class ExperimentConfig:\n",
        "    debug:bool=False\n",
        "    save_dir:str='saves'\n",
        "    num_epochs:int=50\n",
        "    batch_size:int=250\n",
        "    verbose:int=0\n",
        "    print_step:int=1\n",
        "    test_step:int=1\n",
        "    test_from:int=1\n",
        "    model_name:str='MultVAE'\n",
        "    num_exp:int=5\n",
        "    seed:int=2020\n",
        "    gpu:int=0\n",
        "\n",
        "def load_config():\n",
        "    dataset_config = OmegaConf.structured({'dataset' :DatasetConfig})\n",
        "    evaluator_config = OmegaConf.structured({'evaluator': EvaluatorConfig})\n",
        "    early_stop_config = OmegaConf.structured({'early_stop': EarlyStopConfig})\n",
        "    experiment_config = OmegaConf.structured({'experiment': ExperimentConfig})\n",
        "    \n",
        "    model_name = experiment_config.experiment.model_name\n",
        "    # model_config = OmegaConf.structured({'hparams': OmegaConf.load(f\"conf/{model_name}.yaml\")})\n",
        "    model_config = OmegaConf.structured(OmegaConf.load(f\"conf/{model_name}.yaml\"))\n",
        "    \n",
        "    config = OmegaConf.merge(dataset_config, evaluator_config, early_stop_config, experiment_config, model_config)\n",
        "    return config"
      ],
      "metadata": {
        "id": "ljpyIEPEHhxi"
      },
      "execution_count": null,
      "outputs": []
    },
    {
      "cell_type": "code",
      "source": [
        "config = load_config()\n",
        "\n",
        "exp_config = config.experiment\n",
        "gpu_id = exp_config.gpu\n",
        "seed = exp_config.seed\n",
        "\n",
        "dataset_config = config.dataset\n",
        "\n",
        "os.environ[\"CUDA_DEVICE_ORDER\"] = \"PCI_BUS_ID\"\n",
        "os.environ[\"CUDA_VISIBLE_DEVICES\"] = str(gpu_id)\n",
        "\n",
        "device = torch.device(\"cuda\" if torch.cuda.is_available() else \"cpu\")\n",
        "\n",
        "set_random_seed(seed)\n",
        "\n",
        "\"\"\" \n",
        "   Dataset\n",
        "\"\"\"\n",
        "dataset = UIRTDataset(**dataset_config)\n",
        "\n",
        "    # \"\"\" \n",
        "    #     Early stop\n",
        "    # \"\"\"\n",
        "    # early_stop = EarlyStop(**config['EarlyStop'])\n",
        "\"\"\" \n",
        "        Model base class\n",
        "\"\"\"\n",
        "\n",
        "model_name = config.experiment.model_name\n",
        "#model_base = getattr(models, model_name)\n",
        "hparams = config.hparams\n",
        "\n",
        "\"\"\" \n",
        "    Logger\n",
        "\"\"\"\n",
        "test_dict = {\n",
        "        'a': 1,\n",
        "        'b': [1,2,3],\n",
        "        'c': '[1, 2, 3]',\n",
        "        'd': {\n",
        "            'd1': 123,\n",
        "            'd2': 1\n",
        "        }\n",
        "    }\n",
        "logger = Logger()\n",
        "flattened = logger._flatten_dict(test_dict)\n",
        "sanitized = logger._sanitize_params(flattened)\n",
        "print(sanitized)\n",
        "\n",
        "log_dir = make_log_dir(os.path.join(exp_config.save_dir, model_name))\n",
        "logger = FileLogger(log_dir)\n",
        "csv_logger = CSVLogger(log_dir)\n",
        "# Save log & dataset config.\n",
        "logger.info(config)\n",
        "logger.info(dataset)\n",
        "\n",
        "valid_input, valid_target = dataset.valid_input, dataset.valid_target\n",
        "evaluator = Evaluator(valid_input, valid_target, protocol=dataset.protocol, ks=config.evaluator.ks)\n",
        "\n",
        "model = MultVAE(dataset, hparams, device)\n",
        "import timeit\n",
        "\n",
        "ret, loss, list_scores = model.fit(dataset, exp_config, evaluator=evaluator, early_stop=None,loggers=[logger, csv_logger])\n",
        "\n",
        "print(ret['scores'])\n",
        "print(\"\\n\", loss)    \n",
        "csv_logger.save()"
      ],
      "metadata": {
        "colab": {
          "base_uri": "https://localhost:8080/"
        },
        "id": "QavCFrkIRu4_",
        "outputId": "442eb1ca-b162-4b3d-dda5-74140d705663"
      },
      "execution_count": null,
      "outputs": [
        {
          "output_type": "stream",
          "name": "stdout",
          "text": [
            "Load from preprocssed\n",
            "Load preprocessed data...\n"
          ]
        },
        {
          "output_type": "stream",
          "name": "stderr",
          "text": [
            "{'dataset': {'data_path': 'datasets/ml-1m/ratings.dat', 'dataname': 'ml-1m', 'separator': '::', 'binarize_threshold': 0.0, 'implicit': True, 'min_item_per_user': 10, 'min_user_per_item': 1, 'protocol': 'holdout', 'generalization': 'weak', 'holdout_users': 600, 'valid_ratio': 0.1, 'test_ratio': 0.2, 'leave_k': 1, 'split_random': True}, 'evaluator': {'ks': [20, 50, 100]}, 'early_stop': {'early_stop': 25, 'early_stop_measure': 'NDCG@100'}, 'experiment': {'debug': False, 'save_dir': 'saves', 'num_epochs': 50, 'batch_size': 250, 'verbose': 0, 'print_step': 1, 'test_step': 1, 'test_from': 1, 'model_name': 'MultVAE', 'num_exp': 5, 'seed': 2020, 'gpu': 0}, 'hparams': {'enc_dims': [200], 'dropout': 0.5, 'anneal_cap': 0.2, 'total_anneal_steps': 200000, 'learning_rate': 0.005, 'reg': 0.2}}\n",
            "<__main__.UIRTDataset object at 0x7f2cefe03990>\n"
          ]
        },
        {
          "output_type": "stream",
          "name": "stdout",
          "text": [
            "{'a': 1, 'b': '[1, 2, 3]', 'c': '[1, 2, 3]', 'd/d1': 123, 'd/d2': 1}\n"
          ]
        },
        {
          "output_type": "stream",
          "name": "stderr",
          "text": [
            "[epoch   1]loss=52368.2930, Prec@20=0.0782, Prec@50=0.0470, Prec@100=0.0314, Recall@20=0.0715, Recall@50=0.1024, Recall@100=0.1354, NDCG@20=0.1176, NDCG@50=0.1100, NDCG@100=0.1176\n",
            "[epoch   2]loss=21878.0488, Prec@20=0.1296, Prec@50=0.0972, Prec@100=0.0760, Recall@20=0.1068, Recall@50=0.1926, Recall@100=0.2831, NDCG@20=0.1591, NDCG@50=0.1732, NDCG@100=0.2031\n",
            "[epoch   3]loss=16631.3672, Prec@20=0.1308, Prec@50=0.0972, Prec@100=0.0754, Recall@20=0.1088, Recall@50=0.1923, Recall@100=0.2817, NDCG@20=0.1625, NDCG@50=0.1750, NDCG@100=0.2043\n",
            "[epoch   4]loss=15456.3027, Prec@20=0.1310, Prec@50=0.0971, Prec@100=0.0759, Recall@20=0.1100, Recall@50=0.1938, Recall@100=0.2871, NDCG@20=0.1647, NDCG@50=0.1770, NDCG@100=0.2076\n",
            "[epoch   5]loss=14359.1104, Prec@20=0.1307, Prec@50=0.0969, Prec@100=0.0762, Recall@20=0.1092, Recall@50=0.1948, Recall@100=0.2889, NDCG@20=0.1635, NDCG@50=0.1764, NDCG@100=0.2076\n",
            "[epoch   6]loss=13474.7529, Prec@20=0.1305, Prec@50=0.0977, Prec@100=0.0762, Recall@20=0.1097, Recall@50=0.1955, Recall@100=0.2883, NDCG@20=0.1629, NDCG@50=0.1763, NDCG@100=0.2068\n",
            "[epoch   7]loss=12681.5508, Prec@20=0.1318, Prec@50=0.0978, Prec@100=0.0765, Recall@20=0.1110, Recall@50=0.1969, Recall@100=0.2917, NDCG@20=0.1653, NDCG@50=0.1783, NDCG@100=0.2096\n",
            "[epoch   8]loss=11978.0996, Prec@20=0.1318, Prec@50=0.0982, Prec@100=0.0772, Recall@20=0.1099, Recall@50=0.1979, Recall@100=0.2956, NDCG@20=0.1657, NDCG@50=0.1793, NDCG@100=0.2116\n",
            "[epoch   9]loss=11616.4512, Prec@20=0.1337, Prec@50=0.0997, Prec@100=0.0778, Recall@20=0.1118, Recall@50=0.1999, Recall@100=0.2972, NDCG@20=0.1687, NDCG@50=0.1819, NDCG@100=0.2135\n",
            "[epoch  10]loss=11201.5898, Prec@20=0.1344, Prec@50=0.1006, Prec@100=0.0786, Recall@20=0.1118, Recall@50=0.2014, Recall@100=0.3009, NDCG@20=0.1699, NDCG@50=0.1834, NDCG@100=0.2156\n",
            "[epoch  11]loss=10783.1104, Prec@20=0.1351, Prec@50=0.1011, Prec@100=0.0792, Recall@20=0.1121, Recall@50=0.2020, Recall@100=0.3033, NDCG@20=0.1707, NDCG@50=0.1843, NDCG@100=0.2172\n",
            "[epoch  12]loss=10555.5186, Prec@20=0.1357, Prec@50=0.1019, Prec@100=0.0799, Recall@20=0.1132, Recall@50=0.2048, Recall@100=0.3070, NDCG@20=0.1725, NDCG@50=0.1865, NDCG@100=0.2197\n",
            "[epoch  13]loss=10487.5352, Prec@20=0.1372, Prec@50=0.1028, Prec@100=0.0803, Recall@20=0.1152, Recall@50=0.2070, Recall@100=0.3088, NDCG@20=0.1749, NDCG@50=0.1887, NDCG@100=0.2217\n",
            "[epoch  14]loss=10236.2949, Prec@20=0.1378, Prec@50=0.1040, Prec@100=0.0810, Recall@20=0.1148, Recall@50=0.2102, Recall@100=0.3108, NDCG@20=0.1759, NDCG@50=0.1909, NDCG@100=0.2236\n",
            "[epoch  15]loss=10097.7910, Prec@20=0.1396, Prec@50=0.1049, Prec@100=0.0819, Recall@20=0.1164, Recall@50=0.2104, Recall@100=0.3138, NDCG@20=0.1785, NDCG@50=0.1926, NDCG@100=0.2263\n",
            "[epoch  16]loss=10059.7295, Prec@20=0.1415, Prec@50=0.1071, Prec@100=0.0829, Recall@20=0.1176, Recall@50=0.2155, Recall@100=0.3175, NDCG@20=0.1822, NDCG@50=0.1974, NDCG@100=0.2304\n",
            "[epoch  17]loss=9862.3447, Prec@20=0.1443, Prec@50=0.1092, Prec@100=0.0846, Recall@20=0.1200, Recall@50=0.2189, Recall@100=0.3232, NDCG@20=0.1862, NDCG@50=0.2016, NDCG@100=0.2353\n",
            "[epoch  18]loss=9750.9727, Prec@20=0.1486, Prec@50=0.1126, Prec@100=0.0869, Recall@20=0.1237, Recall@50=0.2245, Recall@100=0.3307, NDCG@20=0.1916, NDCG@50=0.2071, NDCG@100=0.2415\n",
            "[epoch  19]loss=9617.0820, Prec@20=0.1542, Prec@50=0.1157, Prec@100=0.0894, Recall@20=0.1281, Recall@50=0.2292, Recall@100=0.3394, NDCG@20=0.1995, NDCG@50=0.2143, NDCG@100=0.2501\n",
            "[epoch  20]loss=9514.7871, Prec@20=0.1586, Prec@50=0.1193, Prec@100=0.0920, Recall@20=0.1326, Recall@50=0.2369, Recall@100=0.3491, NDCG@20=0.2056, NDCG@50=0.2214, NDCG@100=0.2580\n",
            "[epoch  21]loss=9371.8076, Prec@20=0.1625, Prec@50=0.1220, Prec@100=0.0942, Recall@20=0.1354, Recall@50=0.2419, Recall@100=0.3574, NDCG@20=0.2104, NDCG@50=0.2266, NDCG@100=0.2645\n",
            "[epoch  22]loss=9189.6709, Prec@20=0.1668, Prec@50=0.1253, Prec@100=0.0964, Recall@20=0.1409, Recall@50=0.2486, Recall@100=0.3665, NDCG@20=0.2158, NDCG@50=0.2326, NDCG@100=0.2715\n",
            "[epoch  23]loss=9044.1162, Prec@20=0.1698, Prec@50=0.1277, Prec@100=0.0982, Recall@20=0.1439, Recall@50=0.2550, Recall@100=0.3735, NDCG@20=0.2193, NDCG@50=0.2373, NDCG@100=0.2765\n",
            "[epoch  24]loss=9030.9951, Prec@20=0.1727, Prec@50=0.1295, Prec@100=0.0996, Recall@20=0.1460, Recall@50=0.2586, Recall@100=0.3809, NDCG@20=0.2230, NDCG@50=0.2412, NDCG@100=0.2817\n",
            "[epoch  25]loss=8852.8447, Prec@20=0.1745, Prec@50=0.1311, Prec@100=0.1008, Recall@20=0.1488, Recall@50=0.2625, Recall@100=0.3865, NDCG@20=0.2257, NDCG@50=0.2446, NDCG@100=0.2859\n",
            "[epoch  26]loss=8834.2314, Prec@20=0.1770, Prec@50=0.1327, Prec@100=0.1021, Recall@20=0.1519, Recall@50=0.2663, Recall@100=0.3929, NDCG@20=0.2291, NDCG@50=0.2482, NDCG@100=0.2904\n",
            "[epoch  27]loss=8711.9619, Prec@20=0.1789, Prec@50=0.1346, Prec@100=0.1032, Recall@20=0.1538, Recall@50=0.2711, Recall@100=0.3971, NDCG@20=0.2311, NDCG@50=0.2515, NDCG@100=0.2935\n",
            "[epoch  28]loss=8624.8750, Prec@20=0.1812, Prec@50=0.1359, Prec@100=0.1043, Recall@20=0.1556, Recall@50=0.2739, Recall@100=0.4022, NDCG@20=0.2350, NDCG@50=0.2551, NDCG@100=0.2979\n",
            "[epoch  29]loss=8639.6826, Prec@20=0.1830, Prec@50=0.1373, Prec@100=0.1054, Recall@20=0.1580, Recall@50=0.2771, Recall@100=0.4065, NDCG@20=0.2373, NDCG@50=0.2580, NDCG@100=0.3014\n",
            "[epoch  30]loss=8518.7842, Prec@20=0.1854, Prec@50=0.1396, Prec@100=0.1067, Recall@20=0.1608, Recall@50=0.2826, Recall@100=0.4129, NDCG@20=0.2400, NDCG@50=0.2617, NDCG@100=0.3054\n",
            "[epoch  31]loss=8445.9736, Prec@20=0.1888, Prec@50=0.1412, Prec@100=0.1077, Recall@20=0.1645, Recall@50=0.2866, Recall@100=0.4161, NDCG@20=0.2445, NDCG@50=0.2659, NDCG@100=0.3094\n",
            "[epoch  32]loss=8470.8848, Prec@20=0.1909, Prec@50=0.1425, Prec@100=0.1088, Recall@20=0.1660, Recall@50=0.2904, Recall@100=0.4218, NDCG@20=0.2476, NDCG@50=0.2695, NDCG@100=0.3137\n",
            "[epoch  33]loss=8338.2656, Prec@20=0.1929, Prec@50=0.1440, Prec@100=0.1098, Recall@20=0.1687, Recall@50=0.2939, Recall@100=0.4265, NDCG@20=0.2505, NDCG@50=0.2725, NDCG@100=0.3172\n",
            "[epoch  34]loss=8318.0186, Prec@20=0.1952, Prec@50=0.1462, Prec@100=0.1111, Recall@20=0.1709, Recall@50=0.2995, Recall@100=0.4326, NDCG@20=0.2536, NDCG@50=0.2771, NDCG@100=0.3219\n",
            "[epoch  35]loss=8245.4355, Prec@20=0.1979, Prec@50=0.1474, Prec@100=0.1121, Recall@20=0.1742, Recall@50=0.3024, Recall@100=0.4373, NDCG@20=0.2579, NDCG@50=0.2807, NDCG@100=0.3263\n",
            "[epoch  36]loss=8201.0771, Prec@20=0.2004, Prec@50=0.1493, Prec@100=0.1132, Recall@20=0.1767, Recall@50=0.3072, Recall@100=0.4423, NDCG@20=0.2601, NDCG@50=0.2838, NDCG@100=0.3295\n",
            "[epoch  37]loss=8160.7915, Prec@20=0.2023, Prec@50=0.1508, Prec@100=0.1141, Recall@20=0.1783, Recall@50=0.3110, Recall@100=0.4457, NDCG@20=0.2628, NDCG@50=0.2873, NDCG@100=0.3328\n",
            "[epoch  38]loss=8107.3799, Prec@20=0.2049, Prec@50=0.1528, Prec@100=0.1152, Recall@20=0.1825, Recall@50=0.3165, Recall@100=0.4508, NDCG@20=0.2661, NDCG@50=0.2911, NDCG@100=0.3366\n",
            "[epoch  39]loss=8066.2310, Prec@20=0.2066, Prec@50=0.1539, Prec@100=0.1160, Recall@20=0.1840, Recall@50=0.3192, Recall@100=0.4544, NDCG@20=0.2682, NDCG@50=0.2935, NDCG@100=0.3393\n",
            "[epoch  40]loss=8031.7559, Prec@20=0.2088, Prec@50=0.1553, Prec@100=0.1171, Recall@20=0.1866, Recall@50=0.3235, Recall@100=0.4598, NDCG@20=0.2707, NDCG@50=0.2967, NDCG@100=0.3430\n",
            "[epoch  41]loss=8039.1904, Prec@20=0.2101, Prec@50=0.1564, Prec@100=0.1178, Recall@20=0.1885, Recall@50=0.3261, Recall@100=0.4633, NDCG@20=0.2731, NDCG@50=0.2992, NDCG@100=0.3459\n",
            "[epoch  42]loss=7904.6392, Prec@20=0.2118, Prec@50=0.1575, Prec@100=0.1185, Recall@20=0.1897, Recall@50=0.3288, Recall@100=0.4661, NDCG@20=0.2751, NDCG@50=0.3016, NDCG@100=0.3483\n",
            "[epoch  43]loss=7854.9331, Prec@20=0.2126, Prec@50=0.1584, Prec@100=0.1193, Recall@20=0.1916, Recall@50=0.3318, Recall@100=0.4706, NDCG@20=0.2760, NDCG@50=0.3031, NDCG@100=0.3505\n",
            "[epoch  44]loss=7832.1855, Prec@20=0.2141, Prec@50=0.1593, Prec@100=0.1200, Recall@20=0.1942, Recall@50=0.3343, Recall@100=0.4736, NDCG@20=0.2788, NDCG@50=0.3060, NDCG@100=0.3536\n",
            "[epoch  45]loss=7790.2695, Prec@20=0.2157, Prec@50=0.1602, Prec@100=0.1206, Recall@20=0.1962, Recall@50=0.3366, Recall@100=0.4771, NDCG@20=0.2808, NDCG@50=0.3081, NDCG@100=0.3561\n",
            "[epoch  46]loss=7741.6099, Prec@20=0.2166, Prec@50=0.1613, Prec@100=0.1213, Recall@20=0.1977, Recall@50=0.3408, Recall@100=0.4802, NDCG@20=0.2825, NDCG@50=0.3110, NDCG@100=0.3587\n",
            "[epoch  47]loss=7749.4575, Prec@20=0.2180, Prec@50=0.1620, Prec@100=0.1218, Recall@20=0.1995, Recall@50=0.3431, Recall@100=0.4823, NDCG@20=0.2842, NDCG@50=0.3126, NDCG@100=0.3603\n",
            "[epoch  48]loss=7724.3584, Prec@20=0.2195, Prec@50=0.1629, Prec@100=0.1224, Recall@20=0.2011, Recall@50=0.3454, Recall@100=0.4852, NDCG@20=0.2862, NDCG@50=0.3147, NDCG@100=0.3627\n",
            "[epoch  49]loss=7756.1328, Prec@20=0.2200, Prec@50=0.1635, Prec@100=0.1229, Recall@20=0.2023, Recall@50=0.3473, Recall@100=0.4880, NDCG@20=0.2869, NDCG@50=0.3159, NDCG@100=0.3642\n",
            "[epoch  50]loss=7696.4692, Prec@20=0.2214, Prec@50=0.1644, Prec@100=0.1234, Recall@20=0.2036, Recall@50=0.3497, Recall@100=0.4905, NDCG@20=0.2887, NDCG@50=0.3179, NDCG@100=0.3663\n"
          ]
        },
        {
          "output_type": "stream",
          "name": "stdout",
          "text": [
            "{'Prec@20': 0.22141558, 'Prec@50': 0.16437085, 'Prec@100': 0.12342715, 'Recall@20': 0.20364279, 'Recall@50': 0.3497488, 'Recall@100': 0.49047297, 'NDCG@20': 0.28869224, 'NDCG@50': 0.31794605, 'NDCG@100': 0.36627364}\n",
            "\n",
            " [tensor(52368.2930, grad_fn=<AddBackward0>), tensor(21878.0488, grad_fn=<AddBackward0>), tensor(16631.3672, grad_fn=<AddBackward0>), tensor(15456.3027, grad_fn=<AddBackward0>), tensor(14359.1104, grad_fn=<AddBackward0>), tensor(13474.7529, grad_fn=<AddBackward0>), tensor(12681.5508, grad_fn=<AddBackward0>), tensor(11978.0996, grad_fn=<AddBackward0>), tensor(11616.4512, grad_fn=<AddBackward0>), tensor(11201.5898, grad_fn=<AddBackward0>), tensor(10783.1104, grad_fn=<AddBackward0>), tensor(10555.5186, grad_fn=<AddBackward0>), tensor(10487.5352, grad_fn=<AddBackward0>), tensor(10236.2949, grad_fn=<AddBackward0>), tensor(10097.7910, grad_fn=<AddBackward0>), tensor(10059.7295, grad_fn=<AddBackward0>), tensor(9862.3447, grad_fn=<AddBackward0>), tensor(9750.9727, grad_fn=<AddBackward0>), tensor(9617.0820, grad_fn=<AddBackward0>), tensor(9514.7871, grad_fn=<AddBackward0>), tensor(9371.8076, grad_fn=<AddBackward0>), tensor(9189.6709, grad_fn=<AddBackward0>), tensor(9044.1162, grad_fn=<AddBackward0>), tensor(9030.9951, grad_fn=<AddBackward0>), tensor(8852.8447, grad_fn=<AddBackward0>), tensor(8834.2314, grad_fn=<AddBackward0>), tensor(8711.9619, grad_fn=<AddBackward0>), tensor(8624.8750, grad_fn=<AddBackward0>), tensor(8639.6826, grad_fn=<AddBackward0>), tensor(8518.7842, grad_fn=<AddBackward0>), tensor(8445.9736, grad_fn=<AddBackward0>), tensor(8470.8848, grad_fn=<AddBackward0>), tensor(8338.2656, grad_fn=<AddBackward0>), tensor(8318.0186, grad_fn=<AddBackward0>), tensor(8245.4355, grad_fn=<AddBackward0>), tensor(8201.0771, grad_fn=<AddBackward0>), tensor(8160.7915, grad_fn=<AddBackward0>), tensor(8107.3799, grad_fn=<AddBackward0>), tensor(8066.2310, grad_fn=<AddBackward0>), tensor(8031.7559, grad_fn=<AddBackward0>), tensor(8039.1904, grad_fn=<AddBackward0>), tensor(7904.6392, grad_fn=<AddBackward0>), tensor(7854.9331, grad_fn=<AddBackward0>), tensor(7832.1855, grad_fn=<AddBackward0>), tensor(7790.2695, grad_fn=<AddBackward0>), tensor(7741.6099, grad_fn=<AddBackward0>), tensor(7749.4575, grad_fn=<AddBackward0>), tensor(7724.3584, grad_fn=<AddBackward0>), tensor(7756.1328, grad_fn=<AddBackward0>), tensor(7696.4692, grad_fn=<AddBackward0>)]\n"
          ]
        }
      ]
    },
    {
      "cell_type": "markdown",
      "source": [
        "#About the dataset:\n",
        "UserID::MovieID::Rating::Timestamp\n",
        "\n",
        "\n",
        "- UserIDs range between 1 and 6040 \n",
        "- MovieIDs range between 1 and 3952\n",
        "- Ratings are made on a 5-star scale (whole-star ratings only)\n",
        "- Timestamp is represented in seconds since the epoch as returned by time(2)\n",
        "- Each user has at least 20 ratings"
      ],
      "metadata": {
        "id": "tPnDDaaB7DqX"
      }
    },
    {
      "cell_type": "markdown",
      "source": [
        "#RESULTADOS:"
      ],
      "metadata": {
        "id": "YD7GZHMDNfOS"
      }
    },
    {
      "cell_type": "code",
      "source": [
        "print(\"Movies: \",dataset.num_items)\n",
        "print(\"Users: \",dataset.num_users)"
      ],
      "metadata": {
        "colab": {
          "base_uri": "https://localhost:8080/"
        },
        "id": "JwSQcVeiRb-n",
        "outputId": "7db377be-52ed-4b14-a61b-671f5b0c0d3e"
      },
      "execution_count": null,
      "outputs": [
        {
          "output_type": "stream",
          "name": "stdout",
          "text": [
            "Movies:  3706\n",
            "Users:  6040\n"
          ]
        }
      ]
    },
    {
      "cell_type": "markdown",
      "source": [
        "# TEST 1: \n",
        "*   Dimension of the latent representation K: 200 \n",
        "*  Dimension of hidden layers: 600\n",
        "\n",
        "600->600->200->600->600\n",
        "\n",
        "* Annealing the Kullback-Leibler term linearly for 200,000 gradient updates. (total_anneal_steps)\n",
        "*  Dropout at the input layer with probability 0.5 ('dropout': 0.5)\n",
        "*  Train for 50 epochs. \n",
        "*  Batch size: 500 users \n",
        "* $\\beta$: 0.0001 (regularization parameter)\n",
        "* learning rate: 0.005\n",
        "\n",
        "---"
      ],
      "metadata": {
        "id": "lR1ZLQo2i_S-"
      }
    },
    {
      "cell_type": "markdown",
      "source": [
        "#Metrics:\n",
        "\n",
        "'Prec@20': 0.12703642, \n",
        "\n",
        "'Prec@50': 0.09562582, \n",
        "\n",
        "'Prec@100': 0.07436424, \n",
        "\n",
        "'Recall@20': 0.106297635, \n",
        "\n",
        "'Recall@50': 0.1918105, \n",
        "\n",
        "'Recall@100': 0.27864164, \n",
        "\n",
        "'NDCG@20': 0.15745163, \n",
        "\n",
        "'NDCG@50': 0.17169213, \n",
        "\n",
        "'NDCG@100': 0.20033546\n"
      ],
      "metadata": {
        "id": "rNj9qB11m1TV"
      }
    },
    {
      "cell_type": "code",
      "source": [
        "print(ret['scores'])\n",
        "\n",
        "import matplotlib.pyplot as plt\n",
        "print(\"\\n\", loss)    \n",
        "plt.plot(loss)\n",
        "#pred = model.predict(valid_input,valid_target,1000)\n"
      ],
      "metadata": {
        "colab": {
          "base_uri": "https://localhost:8080/",
          "height": 358
        },
        "id": "D7_4NVljjKjC",
        "outputId": "6205c376-ebaf-4a44-a782-dc5f4977c74a"
      },
      "execution_count": null,
      "outputs": [
        {
          "output_type": "stream",
          "name": "stdout",
          "text": [
            "{'Prec@20': 0.12703642, 'Prec@50': 0.09562582, 'Prec@100': 0.07436424, 'Recall@20': 0.106297635, 'Recall@50': 0.1918105, 'Recall@100': 0.27864164, 'NDCG@20': 0.15745163, 'NDCG@50': 0.17169213, 'NDCG@100': 0.20033546}\n",
            "\n",
            " [tensor(20561.5312, grad_fn=<AddBackward0>), tensor(11161.1709, grad_fn=<AddBackward0>), tensor(11029.7598, grad_fn=<AddBackward0>), tensor(11015.6465, grad_fn=<AddBackward0>), tensor(10913.2578, grad_fn=<AddBackward0>), tensor(10912.9238, grad_fn=<AddBackward0>), tensor(10893.4893, grad_fn=<AddBackward0>), tensor(51182.9297, grad_fn=<AddBackward0>), tensor(32544.5078, grad_fn=<AddBackward0>), tensor(18561.3418, grad_fn=<AddBackward0>), tensor(14692.8496, grad_fn=<AddBackward0>), tensor(12942.9775, grad_fn=<AddBackward0>), tensor(12391.8555, grad_fn=<AddBackward0>), tensor(11839.4102, grad_fn=<AddBackward0>), tensor(11706.5791, grad_fn=<AddBackward0>), tensor(11561.2480, grad_fn=<AddBackward0>), tensor(11349.0498, grad_fn=<AddBackward0>), tensor(11271.1445, grad_fn=<AddBackward0>), tensor(11268.0283, grad_fn=<AddBackward0>), tensor(11230.6602, grad_fn=<AddBackward0>), tensor(11203.1611, grad_fn=<AddBackward0>), tensor(11068.6660, grad_fn=<AddBackward0>), tensor(10999.4873, grad_fn=<AddBackward0>), tensor(11104.4443, grad_fn=<AddBackward0>), tensor(10950.1680, grad_fn=<AddBackward0>), tensor(11021.3262, grad_fn=<AddBackward0>), tensor(10971.5137, grad_fn=<AddBackward0>), tensor(10948.4922, grad_fn=<AddBackward0>), tensor(11007.0312, grad_fn=<AddBackward0>), tensor(10969.5957, grad_fn=<AddBackward0>), tensor(10920.1484, grad_fn=<AddBackward0>), tensor(11039.6709, grad_fn=<AddBackward0>), tensor(10944.4775, grad_fn=<AddBackward0>), tensor(10992.9375, grad_fn=<AddBackward0>), tensor(10969.9619, grad_fn=<AddBackward0>), tensor(10981.2861, grad_fn=<AddBackward0>), tensor(10976.9346, grad_fn=<AddBackward0>), tensor(10945.2168, grad_fn=<AddBackward0>), tensor(10957.4102, grad_fn=<AddBackward0>), tensor(10972.4102, grad_fn=<AddBackward0>), tensor(11076., grad_fn=<AddBackward0>), tensor(10899.8398, grad_fn=<AddBackward0>), tensor(10879.5156, grad_fn=<AddBackward0>), tensor(10903.3193, grad_fn=<AddBackward0>), tensor(10868.3711, grad_fn=<AddBackward0>), tensor(10868.4795, grad_fn=<AddBackward0>), tensor(67601.0781, grad_fn=<AddBackward0>), tensor(19783.0879, grad_fn=<AddBackward0>), tensor(11678.7051, grad_fn=<AddBackward0>), tensor(16566.1895, grad_fn=<AddBackward0>)]\n"
          ]
        },
        {
          "output_type": "execute_result",
          "data": {
            "text/plain": [
              "[<matplotlib.lines.Line2D at 0x7f2cf0f2b4d0>]"
            ]
          },
          "metadata": {},
          "execution_count": 150
        },
        {
          "output_type": "display_data",
          "data": {
            "image/png": "[encoded data removed]",
            "text/plain": [
              "<Figure size 432x288 with 1 Axes>"
            ]
          },
          "metadata": {
            "needs_background": "light"
          }
        }
      ]
    },
    {
      "cell_type": "code",
      "source": [
        "print(\"Prec@50\")\n",
        "prec5 = []\n",
        "for i in range(ExperimentConfig.num_epochs):\n",
        "  prec5.append(list_scores[9*i+1])\n",
        "#prec5.append(list_scores[-1])\n",
        "plt.plot(prec5)\n",
        "plt.title('Prec@50')"
      ],
      "metadata": {
        "colab": {
          "base_uri": "https://localhost:8080/",
          "height": 316
        },
        "id": "CtmR96cpjM_L",
        "outputId": "8d7dca93-88ce-4cc8-e4a6-828602c6c4dc"
      },
      "execution_count": null,
      "outputs": [
        {
          "output_type": "stream",
          "name": "stdout",
          "text": [
            "Prec@50\n"
          ]
        },
        {
          "output_type": "execute_result",
          "data": {
            "text/plain": [
              "Text(0.5, 1.0, 'Prec@50')"
            ]
          },
          "metadata": {},
          "execution_count": 151
        },
        {
          "output_type": "display_data",
          "data": {
            "image/png": "[encoded data removed]",
            "text/plain": [
              "<Figure size 432x288 with 1 Axes>"
            ]
          },
          "metadata": {
            "needs_background": "light"
          }
        }
      ]
    },
    {
      "cell_type": "code",
      "source": [
        "print(\"Recall@5\")\n",
        "Recall = []\n",
        "for i in range(ExperimentConfig.num_epochs):\n",
        "  Recall.append(list_scores[9*i+2])\n",
        "plt.plot(Recall)\n",
        "plt.title('Recall@50')"
      ],
      "metadata": {
        "colab": {
          "base_uri": "https://localhost:8080/",
          "height": 316
        },
        "id": "czGnEBv-jPW9",
        "outputId": "34da5b0a-e59f-45e7-b5ab-e8c904a618fb"
      },
      "execution_count": null,
      "outputs": [
        {
          "output_type": "stream",
          "name": "stdout",
          "text": [
            "Recall@5\n"
          ]
        },
        {
          "output_type": "execute_result",
          "data": {
            "text/plain": [
              "Text(0.5, 1.0, 'Recall@50')"
            ]
          },
          "metadata": {},
          "execution_count": 152
        },
        {
          "output_type": "display_data",
          "data": {
            "image/png": "[encoded data removed]",
            "text/plain": [
              "<Figure size 432x288 with 1 Axes>"
            ]
          },
          "metadata": {
            "needs_background": "light"
          }
        }
      ]
    },
    {
      "cell_type": "code",
      "source": [
        "print(\"NDCG@5\")\n",
        "NDCG = []\n",
        "for i in range(ExperimentConfig.num_epochs):\n",
        "  NDCG.append(list_scores[9*i+3])\n",
        "plt.plot(NDCG)\n",
        "plt.title('NDCG@50')"
      ],
      "metadata": {
        "colab": {
          "base_uri": "https://localhost:8080/",
          "height": 316
        },
        "id": "T0_ptTkbjS4M",
        "outputId": "b726d4f2-6d6f-4697-f2ec-cf4f1708a725"
      },
      "execution_count": null,
      "outputs": [
        {
          "output_type": "stream",
          "name": "stdout",
          "text": [
            "NDCG@5\n"
          ]
        },
        {
          "output_type": "execute_result",
          "data": {
            "text/plain": [
              "Text(0.5, 1.0, 'NDCG@50')"
            ]
          },
          "metadata": {},
          "execution_count": 153
        },
        {
          "output_type": "display_data",
          "data": {
            "image/png": "[encoded data removed]",
            "text/plain": [
              "<Figure size 432x288 with 1 Axes>"
            ]
          },
          "metadata": {
            "needs_background": "light"
          }
        }
      ]
    },
    {
      "cell_type": "markdown",
      "source": [
        "# TEST 2: \n",
        "*   Dimension of the latent representation K: 200 \n",
        "*  *Dimension of hidden layer: 600*\n",
        "\n",
        "600->200->600\n",
        "\n",
        "* Annealing the Kullback-Leibler term linearly for 200,000 gradient updates. (total_anneal_steps)\n",
        "*  Dropout at the input layer with probability 0.5 ('dropout': 0.5)\n",
        "*  Train for 50 epochs. \n",
        "*  Batch size: 500 users \n",
        "* $\\beta$: 0.0001 (regularization parameter)\n",
        "* learning rate: 0.005\n",
        "\n",
        "--- *texto en cursiva*\n",
        "\n",
        "\n",
        "\n",
        "\n"
      ],
      "metadata": {
        "id": "3FbxTWzBNhuE"
      }
    },
    {
      "cell_type": "markdown",
      "source": [
        "Metrics:\n",
        "\n",
        "  'Prec@20': 0.13178807, \n",
        "\n",
        "  'Prec@50': 0.09878146, \n",
        "\n",
        "  'Prec@100': 0.077412255, \n",
        "  \n",
        "  'Recall@20': 0.11207558, \n",
        "  \n",
        "  'Recall@50': 0.20142283, \n",
        "  \n",
        "  'Recall@100': 0.30110246, \n",
        "  \n",
        "  'NDCG@20': 0.16318484, \n",
        "  \n",
        "  'NDCG@50': 0.17826967, \n",
        "  \n",
        "  'NDCG@100': 0.21093903"
      ],
      "metadata": {
        "id": "3sEa37qTRblY"
      }
    },
    {
      "cell_type": "code",
      "source": [
        "print(ret['scores'])\n",
        "\n",
        "import matplotlib.pyplot as plt\n",
        "print(\"\\n\", loss)    \n",
        "plt.plot(loss)\n",
        "#pred = model.predict(valid_input,valid_target,1000)\n"
      ],
      "metadata": {
        "id": "wtM7iMG2Qnh6",
        "colab": {
          "base_uri": "https://localhost:8080/",
          "height": 354
        },
        "outputId": "9c99f565-eb58-4c1e-a72b-a32a29c55296"
      },
      "execution_count": null,
      "outputs": [
        {
          "output_type": "stream",
          "name": "stdout",
          "text": [
            "{'Prec@20': 0.13178807, 'Prec@50': 0.09878146, 'Prec@100': 0.077412255, 'Recall@20': 0.11207558, 'Recall@50': 0.20142283, 'Recall@100': 0.30110246, 'NDCG@20': 0.16318484, 'NDCG@50': 0.17826967, 'NDCG@100': 0.21093903}\n",
            "\n",
            " [tensor(18185.1348, grad_fn=<AddBackward0>), tensor(6365.4399, grad_fn=<AddBackward0>), tensor(5908.0430, grad_fn=<AddBackward0>), tensor(5776.8916, grad_fn=<AddBackward0>), tensor(5642.0376, grad_fn=<AddBackward0>), tensor(5650.7046, grad_fn=<AddBackward0>), tensor(5622.8350, grad_fn=<AddBackward0>), tensor(5610.4482, grad_fn=<AddBackward0>), tensor(5702.6504, grad_fn=<AddBackward0>), tensor(5756.5420, grad_fn=<AddBackward0>), tensor(5606.7695, grad_fn=<AddBackward0>), tensor(5526.2090, grad_fn=<AddBackward0>), tensor(5617.8838, grad_fn=<AddBackward0>), tensor(5265.3179, grad_fn=<AddBackward0>), tensor(5013.5508, grad_fn=<AddBackward0>), tensor(4975.8306, grad_fn=<AddBackward0>), tensor(4866.1045, grad_fn=<AddBackward0>), tensor(4839.7056, grad_fn=<AddBackward0>), tensor(4851.9331, grad_fn=<AddBackward0>), tensor(4852.8291, grad_fn=<AddBackward0>), tensor(4847.7778, grad_fn=<AddBackward0>), tensor(4771.8457, grad_fn=<AddBackward0>), tensor(4748.8105, grad_fn=<AddBackward0>), tensor(4845.7896, grad_fn=<AddBackward0>), tensor(4735.9736, grad_fn=<AddBackward0>), tensor(4818.5562, grad_fn=<AddBackward0>), tensor(4755.5283, grad_fn=<AddBackward0>), tensor(4787.0508, grad_fn=<AddBackward0>), tensor(4908.9028, grad_fn=<AddBackward0>), tensor(4820.0698, grad_fn=<AddBackward0>), tensor(4775.8130, grad_fn=<AddBackward0>), tensor(4877.5874, grad_fn=<AddBackward0>), tensor(4779.0308, grad_fn=<AddBackward0>), tensor(4815.0552, grad_fn=<AddBackward0>), tensor(4813.0591, grad_fn=<AddBackward0>), tensor(4815.5020, grad_fn=<AddBackward0>), tensor(4835.3398, grad_fn=<AddBackward0>), tensor(4822.1924, grad_fn=<AddBackward0>), tensor(4827.4712, grad_fn=<AddBackward0>), tensor(4817.1504, grad_fn=<AddBackward0>), tensor(4887.3506, grad_fn=<AddBackward0>), tensor(4766.6328, grad_fn=<AddBackward0>), tensor(4743.9824, grad_fn=<AddBackward0>), tensor(4754.1421, grad_fn=<AddBackward0>), tensor(4735.8032, grad_fn=<AddBackward0>), tensor(4707.8989, grad_fn=<AddBackward0>), tensor(4756.9985, grad_fn=<AddBackward0>), tensor(4745.4922, grad_fn=<AddBackward0>), tensor(4828.6025, grad_fn=<AddBackward0>), tensor(4756.4585, grad_fn=<AddBackward0>)]\n"
          ]
        },
        {
          "output_type": "execute_result",
          "data": {
            "text/plain": [
              "[<matplotlib.lines.Line2D at 0x7f2cf05f4410>]"
            ]
          },
          "metadata": {},
          "execution_count": 72
        },
        {
          "output_type": "display_data",
          "data": {
            "image/png": "[encoded data removed]",
            "text/plain": [
              "<Figure size 432x288 with 1 Axes>"
            ]
          },
          "metadata": {
            "needs_background": "light"
          }
        }
      ]
    },
    {
      "cell_type": "code",
      "source": [
        "print(\"Prec@50\")\n",
        "prec5 = []\n",
        "for i in range(ExperimentConfig.num_epochs):\n",
        "  prec5.append(list_scores[9*i+1])\n",
        "#prec5.append(list_scores[-1])\n",
        "plt.plot(prec5)\n",
        "plt.title('Prec@50')"
      ],
      "metadata": {
        "colab": {
          "base_uri": "https://localhost:8080/",
          "height": 316
        },
        "id": "VtzNY23JOhnH",
        "outputId": "559d337e-6ff6-4633-887b-f333a4b5cba2"
      },
      "execution_count": null,
      "outputs": [
        {
          "output_type": "stream",
          "name": "stdout",
          "text": [
            "Prec@20\n"
          ]
        },
        {
          "output_type": "execute_result",
          "data": {
            "text/plain": [
              "Text(0.5, 1.0, 'Prec@50')"
            ]
          },
          "metadata": {},
          "execution_count": 73
        },
        {
          "output_type": "display_data",
          "data": {
            "image/png": "[encoded data removed]",
            "text/plain": [
              "<Figure size 432x288 with 1 Axes>"
            ]
          },
          "metadata": {
            "needs_background": "light"
          }
        }
      ]
    },
    {
      "cell_type": "code",
      "source": [
        "print(\"Recall@5\")\n",
        "Recall = []\n",
        "for i in range(ExperimentConfig.num_epochs):\n",
        "  Recall.append(list_scores[9*i+2])\n",
        "plt.plot(Recall)\n",
        "plt.title('Recall@50')"
      ],
      "metadata": {
        "id": "yzVgxnF2RWtq",
        "colab": {
          "base_uri": "https://localhost:8080/",
          "height": 316
        },
        "outputId": "9daf6f53-f4be-4cfd-bb92-2ab556d8b26b"
      },
      "execution_count": null,
      "outputs": [
        {
          "output_type": "stream",
          "name": "stdout",
          "text": [
            "Recall@5\n"
          ]
        },
        {
          "output_type": "execute_result",
          "data": {
            "text/plain": [
              "Text(0.5, 1.0, 'Recall@50')"
            ]
          },
          "metadata": {},
          "execution_count": 74
        },
        {
          "output_type": "display_data",
          "data": {
            "image/png": "[encoded data removed]",
            "text/plain": [
              "<Figure size 432x288 with 1 Axes>"
            ]
          },
          "metadata": {
            "needs_background": "light"
          }
        }
      ]
    },
    {
      "cell_type": "code",
      "source": [
        "print(\"NDCG@5\")\n",
        "NDCG = []\n",
        "for i in range(ExperimentConfig.num_epochs):\n",
        "  NDCG.append(list_scores[9*i+3])\n",
        "plt.plot(NDCG)\n",
        "plt.title('NDCG@50')"
      ],
      "metadata": {
        "colab": {
          "base_uri": "https://localhost:8080/",
          "height": 316
        },
        "id": "3qBidLjuOVQF",
        "outputId": "9607ad2b-ee87-4e33-818e-f775e48e5f94"
      },
      "execution_count": null,
      "outputs": [
        {
          "output_type": "stream",
          "name": "stdout",
          "text": [
            "NDCG@5\n"
          ]
        },
        {
          "output_type": "execute_result",
          "data": {
            "text/plain": [
              "Text(0.5, 1.0, 'NDCG@50')"
            ]
          },
          "metadata": {},
          "execution_count": 75
        },
        {
          "output_type": "display_data",
          "data": {
            "image/png": "[encoded data removed]",
            "text/plain": [
              "<Figure size 432x288 with 1 Axes>"
            ]
          },
          "metadata": {
            "needs_background": "light"
          }
        }
      ]
    },
    {
      "cell_type": "code",
      "source": [
        "'''pred = model.predict( dataset.valid_users, dataset.valid_input, test_batch_size=ExperimentConfig.batch_size)\n",
        "target = dataset.valid_target\n",
        "for idx, u in enumerate(target):\n",
        "    pred_u = pred[idx]\n",
        "    target_u = target[u]\n",
        "    num_target_items = len(target_u)'''"
      ],
      "metadata": {
        "id": "MFmMMQYM7Jj_"
      },
      "execution_count": null,
      "outputs": []
    },
    {
      "cell_type": "markdown",
      "source": [
        "# TEST 3: *********\n",
        "*   Dimension of the latent representation K: 200 \n",
        "*  Dimension of hidden layer: 600\n",
        "\n",
        "600->200->600\n",
        "\n",
        "* Annealing the Kullback-Leibler term linearly for 200,000 gradient updates. (total_anneal_steps)\n",
        "*  Dropout at the input layer with probability 0.5 ('dropout': 0.5)\n",
        "*  Train for 50 epochs. \n",
        "*  *Batch size: 250 users* \n",
        "* *$\\beta$: 0.01 (regularization parameter)*\n",
        "* learning rate: 0.005 "
      ],
      "metadata": {
        "id": "vf4JxA4sZGb_"
      }
    },
    {
      "cell_type": "markdown",
      "source": [
        "**Metrics:**\n",
        "\n",
        "'Prec@20': 0.16883278, \n",
        "\n",
        "'Prec@50': 0.12736423, \n",
        "\n",
        "'Prec@100': 0.098336086, \n",
        "\n",
        "'Recall@20': 0.15117404, \n",
        "\n",
        "'Recall@50': 0.26834795, \n",
        "\n",
        "'Recall@100': 0.3915983, \n",
        "\n",
        "'NDCG@20': 0.22055064, \n",
        "\n",
        "'NDCG@50': 0.24321204, \n",
        "\n",
        "'NDCG@100': 0.28482428}\n"
      ],
      "metadata": {
        "id": "_3aD3zWBgadG"
      }
    },
    {
      "cell_type": "code",
      "source": [
        "print(ret['scores'])\n",
        "\n",
        "import matplotlib.pyplot as plt\n",
        "print(\"\\n\", loss)    \n",
        "plt.plot(loss)\n",
        "#pred = model.predict(valid_input,valid_target,1000)"
      ],
      "metadata": {
        "colab": {
          "base_uri": "https://localhost:8080/",
          "height": 354
        },
        "id": "gZIOXclV_pbU",
        "outputId": "63784d6c-c7f2-497d-c0fe-d72dcdc73c91"
      },
      "execution_count": null,
      "outputs": [
        {
          "output_type": "stream",
          "name": "stdout",
          "text": [
            "{'Prec@20': 0.16883278, 'Prec@50': 0.12736423, 'Prec@100': 0.098336086, 'Recall@20': 0.15117404, 'Recall@50': 0.26834795, 'Recall@100': 0.3915983, 'NDCG@20': 0.22055064, 'NDCG@50': 0.24321204, 'NDCG@100': 0.28482428}\n",
            "\n",
            " [tensor(24089.4531, grad_fn=<AddBackward0>), tensor(11191.2852, grad_fn=<AddBackward0>), tensor(10976.0410, grad_fn=<AddBackward0>), tensor(10984.2002, grad_fn=<AddBackward0>), tensor(10902.7393, grad_fn=<AddBackward0>), tensor(10915.8105, grad_fn=<AddBackward0>), tensor(10898.7412, grad_fn=<AddBackward0>), tensor(10879.6553, grad_fn=<AddBackward0>), tensor(10878.6943, grad_fn=<AddBackward0>), tensor(10580.4512, grad_fn=<AddBackward0>), tensor(9857.1504, grad_fn=<AddBackward0>), tensor(9452.9033, grad_fn=<AddBackward0>), tensor(9629.2383, grad_fn=<AddBackward0>), tensor(9326.0801, grad_fn=<AddBackward0>), tensor(9246.5059, grad_fn=<AddBackward0>), tensor(9337.3018, grad_fn=<AddBackward0>), tensor(9219.1729, grad_fn=<AddBackward0>), tensor(9215.3662, grad_fn=<AddBackward0>), tensor(9255.1338, grad_fn=<AddBackward0>), tensor(9280.2422, grad_fn=<AddBackward0>), tensor(9241.2461, grad_fn=<AddBackward0>), tensor(9183.0508, grad_fn=<AddBackward0>), tensor(9150.7480, grad_fn=<AddBackward0>), tensor(9247.1074, grad_fn=<AddBackward0>), tensor(9150.6201, grad_fn=<AddBackward0>), tensor(9255.9004, grad_fn=<AddBackward0>), tensor(9165.9941, grad_fn=<AddBackward0>), tensor(9176.0303, grad_fn=<AddBackward0>), tensor(9230.7568, grad_fn=<AddBackward0>), tensor(9189.0654, grad_fn=<AddBackward0>), tensor(9126.7236, grad_fn=<AddBackward0>), tensor(9338.4287, grad_fn=<AddBackward0>), tensor(9167.6904, grad_fn=<AddBackward0>), tensor(9049.9824, grad_fn=<AddBackward0>), tensor(8959.1250, grad_fn=<AddBackward0>), tensor(8888.5215, grad_fn=<AddBackward0>), tensor(8869.5332, grad_fn=<AddBackward0>), tensor(8818.1475, grad_fn=<AddBackward0>), tensor(8808.9580, grad_fn=<AddBackward0>), tensor(8826.7451, grad_fn=<AddBackward0>), tensor(8841.3750, grad_fn=<AddBackward0>), tensor(8750.4785, grad_fn=<AddBackward0>), tensor(8691.9980, grad_fn=<AddBackward0>), tensor(8697.6025, grad_fn=<AddBackward0>), tensor(8668.2754, grad_fn=<AddBackward0>), tensor(8614.9580, grad_fn=<AddBackward0>), tensor(8655.7197, grad_fn=<AddBackward0>), tensor(8514.5762, grad_fn=<AddBackward0>), tensor(8497.5322, grad_fn=<AddBackward0>), tensor(8390.0410, grad_fn=<AddBackward0>)]\n"
          ]
        },
        {
          "output_type": "execute_result",
          "data": {
            "text/plain": [
              "[<matplotlib.lines.Line2D at 0x7f2cf0ee9350>]"
            ]
          },
          "metadata": {},
          "execution_count": 140
        },
        {
          "output_type": "display_data",
          "data": {
            "image/png": "[encoded data removed]",
            "text/plain": [
              "<Figure size 432x288 with 1 Axes>"
            ]
          },
          "metadata": {
            "needs_background": "light"
          }
        }
      ]
    },
    {
      "cell_type": "code",
      "source": [
        "print(\"Prec@50\")\n",
        "prec5 = []\n",
        "for i in range(ExperimentConfig.num_epochs):\n",
        "  prec5.append(list_scores[9*i+1])\n",
        "#prec5.append(list_scores[-1])\n",
        "plt.plot(prec5)\n",
        "plt.title('Prec@50')"
      ],
      "metadata": {
        "colab": {
          "base_uri": "https://localhost:8080/",
          "height": 316
        },
        "id": "JacWn5hICmwQ",
        "outputId": "47994daf-a47f-4351-9c0d-af2a55ef613c"
      },
      "execution_count": null,
      "outputs": [
        {
          "output_type": "stream",
          "name": "stdout",
          "text": [
            "Prec@50\n"
          ]
        },
        {
          "output_type": "execute_result",
          "data": {
            "text/plain": [
              "Text(0.5, 1.0, 'Prec@50')"
            ]
          },
          "metadata": {},
          "execution_count": 137
        },
        {
          "output_type": "display_data",
          "data": {
            "image/png": "[encoded data removed]",
            "text/plain": [
              "<Figure size 432x288 with 1 Axes>"
            ]
          },
          "metadata": {
            "needs_background": "light"
          }
        }
      ]
    },
    {
      "cell_type": "code",
      "source": [
        "print(\"Recall@50\")\n",
        "Recall = []\n",
        "for i in range(ExperimentConfig.num_epochs):\n",
        "  Recall.append(list_scores[9*i+2])\n",
        "plt.plot(Recall)\n",
        "plt.title('Recall@50')"
      ],
      "metadata": {
        "colab": {
          "base_uri": "https://localhost:8080/",
          "height": 316
        },
        "id": "4Z04pJyiZ7oD",
        "outputId": "cbe16e3c-6892-4b09-bc3f-52ba6b2459b9"
      },
      "execution_count": null,
      "outputs": [
        {
          "output_type": "stream",
          "name": "stdout",
          "text": [
            "Recall@50\n"
          ]
        },
        {
          "output_type": "execute_result",
          "data": {
            "text/plain": [
              "Text(0.5, 1.0, 'Recall@50')"
            ]
          },
          "metadata": {},
          "execution_count": 138
        },
        {
          "output_type": "display_data",
          "data": {
            "image/png": "[encoded data removed]",
            "text/plain": [
              "<Figure size 432x288 with 1 Axes>"
            ]
          },
          "metadata": {
            "needs_background": "light"
          }
        }
      ]
    },
    {
      "cell_type": "code",
      "source": [
        "print(\"NDCG@50\")\n",
        "NDCG = []\n",
        "for i in range(ExperimentConfig.num_epochs):\n",
        "  NDCG.append(list_scores[9*i+3])\n",
        "plt.plot(NDCG)\n",
        "plt.title('NDCG@50')"
      ],
      "metadata": {
        "colab": {
          "base_uri": "https://localhost:8080/",
          "height": 316
        },
        "id": "7BN01qtfaDHA",
        "outputId": "2b056053-9af1-47ae-b44d-4d29b5e498f9"
      },
      "execution_count": null,
      "outputs": [
        {
          "output_type": "stream",
          "name": "stdout",
          "text": [
            "NDCG@50\n"
          ]
        },
        {
          "output_type": "execute_result",
          "data": {
            "text/plain": [
              "Text(0.5, 1.0, 'NDCG@50')"
            ]
          },
          "metadata": {},
          "execution_count": 139
        },
        {
          "output_type": "display_data",
          "data": {
            "image/png": "[encoded data removed]",
            "text/plain": [
              "<Figure size 432x288 with 1 Axes>"
            ]
          },
          "metadata": {
            "needs_background": "light"
          }
        }
      ]
    },
    {
      "cell_type": "markdown",
      "source": [
        "# TEST 4: \n",
        "*   Dimension of the latent representation K: 200 \n",
        "\n",
        "\n",
        "I->200->I\n",
        "\n",
        "* Annealing the Kullback-Leibler term linearly for 200,000 gradient updates. (total_anneal_steps)\n",
        "*  Dropout at the input layer with probability 0.5 ('dropout': 0.5)\n",
        "*  Train for 50 epochs. \n",
        "*  *Batch size: 250 users* \n",
        "* *$\\beta$: 0.01 (regularization parameter)*\n",
        "* learning rate: 0.005 "
      ],
      "metadata": {
        "id": "6Ob6rueKhJKw"
      }
    },
    {
      "cell_type": "markdown",
      "source": [
        "#Metrics:\n",
        "\n",
        "'Prec@20': 0.22141558, \n",
        "\n",
        "'Prec@50': 0.16437085, \n",
        "\n",
        "'Prec@100': 0.12342715, \n",
        "\n",
        "'Recall@20': 0.20364279, \n",
        "\n",
        "'Recall@50': 0.3497488, \n",
        "\n",
        "'Recall@100': 0.49047297, \n",
        "\n",
        "'NDCG@20': 0.28869224, \n",
        "\n",
        "'NDCG@50': 0.31794605, \n",
        "\n",
        "'NDCG@100': 0.36627364}"
      ],
      "metadata": {
        "id": "vPSz2_R1jXWj"
      }
    },
    {
      "cell_type": "code",
      "source": [
        "print(ret['scores'])\n",
        "\n",
        "import matplotlib.pyplot as plt\n",
        "print(\"\\n\", loss)    \n",
        "plt.plot(loss)\n",
        "#pred = model.predict(valid_input,valid_target,1000)"
      ],
      "metadata": {
        "colab": {
          "base_uri": "https://localhost:8080/",
          "height": 354
        },
        "id": "RgWfj3xcaHh3",
        "outputId": "4eb0e9ec-24a0-4cf9-b288-a7fe59c54f98"
      },
      "execution_count": null,
      "outputs": [
        {
          "output_type": "stream",
          "name": "stdout",
          "text": [
            "{'Prec@20': 0.22141558, 'Prec@50': 0.16437085, 'Prec@100': 0.12342715, 'Recall@20': 0.20364279, 'Recall@50': 0.3497488, 'Recall@100': 0.49047297, 'NDCG@20': 0.28869224, 'NDCG@50': 0.31794605, 'NDCG@100': 0.36627364}\n",
            "\n",
            " [tensor(52368.2930, grad_fn=<AddBackward0>), tensor(21878.0488, grad_fn=<AddBackward0>), tensor(16631.3672, grad_fn=<AddBackward0>), tensor(15456.3027, grad_fn=<AddBackward0>), tensor(14359.1104, grad_fn=<AddBackward0>), tensor(13474.7529, grad_fn=<AddBackward0>), tensor(12681.5508, grad_fn=<AddBackward0>), tensor(11978.0996, grad_fn=<AddBackward0>), tensor(11616.4512, grad_fn=<AddBackward0>), tensor(11201.5898, grad_fn=<AddBackward0>), tensor(10783.1104, grad_fn=<AddBackward0>), tensor(10555.5186, grad_fn=<AddBackward0>), tensor(10487.5352, grad_fn=<AddBackward0>), tensor(10236.2949, grad_fn=<AddBackward0>), tensor(10097.7910, grad_fn=<AddBackward0>), tensor(10059.7295, grad_fn=<AddBackward0>), tensor(9862.3447, grad_fn=<AddBackward0>), tensor(9750.9727, grad_fn=<AddBackward0>), tensor(9617.0820, grad_fn=<AddBackward0>), tensor(9514.7871, grad_fn=<AddBackward0>), tensor(9371.8076, grad_fn=<AddBackward0>), tensor(9189.6709, grad_fn=<AddBackward0>), tensor(9044.1162, grad_fn=<AddBackward0>), tensor(9030.9951, grad_fn=<AddBackward0>), tensor(8852.8447, grad_fn=<AddBackward0>), tensor(8834.2314, grad_fn=<AddBackward0>), tensor(8711.9619, grad_fn=<AddBackward0>), tensor(8624.8750, grad_fn=<AddBackward0>), tensor(8639.6826, grad_fn=<AddBackward0>), tensor(8518.7842, grad_fn=<AddBackward0>), tensor(8445.9736, grad_fn=<AddBackward0>), tensor(8470.8848, grad_fn=<AddBackward0>), tensor(8338.2656, grad_fn=<AddBackward0>), tensor(8318.0186, grad_fn=<AddBackward0>), tensor(8245.4355, grad_fn=<AddBackward0>), tensor(8201.0771, grad_fn=<AddBackward0>), tensor(8160.7915, grad_fn=<AddBackward0>), tensor(8107.3799, grad_fn=<AddBackward0>), tensor(8066.2310, grad_fn=<AddBackward0>), tensor(8031.7559, grad_fn=<AddBackward0>), tensor(8039.1904, grad_fn=<AddBackward0>), tensor(7904.6392, grad_fn=<AddBackward0>), tensor(7854.9331, grad_fn=<AddBackward0>), tensor(7832.1855, grad_fn=<AddBackward0>), tensor(7790.2695, grad_fn=<AddBackward0>), tensor(7741.6099, grad_fn=<AddBackward0>), tensor(7749.4575, grad_fn=<AddBackward0>), tensor(7724.3584, grad_fn=<AddBackward0>), tensor(7756.1328, grad_fn=<AddBackward0>), tensor(7696.4692, grad_fn=<AddBackward0>)]\n"
          ]
        },
        {
          "output_type": "execute_result",
          "data": {
            "text/plain": [
              "[<matplotlib.lines.Line2D at 0x7f2cf10d3410>]"
            ]
          },
          "metadata": {},
          "execution_count": 144
        },
        {
          "output_type": "display_data",
          "data": {
            "image/png": "[encoded data removed]",
            "text/plain": [
              "<Figure size 432x288 with 1 Axes>"
            ]
          },
          "metadata": {
            "needs_background": "light"
          }
        }
      ]
    },
    {
      "cell_type": "code",
      "source": [
        "print(\"Prec@50\")\n",
        "prec5 = []\n",
        "for i in range(ExperimentConfig.num_epochs):\n",
        "  prec5.append(list_scores[9*i+1])\n",
        "#prec5.append(list_scores[-1])\n",
        "plt.plot(prec5)\n",
        "plt.title('Prec@50')"
      ],
      "metadata": {
        "colab": {
          "base_uri": "https://localhost:8080/",
          "height": 316
        },
        "id": "PGre-ZlBhSiu",
        "outputId": "6ec23e7d-0909-4779-9698-88c1a6c2c616"
      },
      "execution_count": null,
      "outputs": [
        {
          "output_type": "stream",
          "name": "stdout",
          "text": [
            "Prec@50\n"
          ]
        },
        {
          "output_type": "execute_result",
          "data": {
            "text/plain": [
              "Text(0.5, 1.0, 'Prec@50')"
            ]
          },
          "metadata": {},
          "execution_count": 145
        },
        {
          "output_type": "display_data",
          "data": {
            "image/png": "[encoded data removed]",
            "text/plain": [
              "<Figure size 432x288 with 1 Axes>"
            ]
          },
          "metadata": {
            "needs_background": "light"
          }
        }
      ]
    },
    {
      "cell_type": "code",
      "source": [
        "print(\"Recall@50\")\n",
        "Recall = []\n",
        "for i in range(ExperimentConfig.num_epochs):\n",
        "  Recall.append(list_scores[9*i+2])\n",
        "plt.plot(Recall)\n",
        "plt.title('Recall@50')"
      ],
      "metadata": {
        "colab": {
          "base_uri": "https://localhost:8080/",
          "height": 316
        },
        "id": "DCiCU1JIhVRf",
        "outputId": "1988a858-fd1f-4a42-8164-69ce5dab6465"
      },
      "execution_count": null,
      "outputs": [
        {
          "output_type": "stream",
          "name": "stdout",
          "text": [
            "Recall@50\n"
          ]
        },
        {
          "output_type": "execute_result",
          "data": {
            "text/plain": [
              "Text(0.5, 1.0, 'Recall@50')"
            ]
          },
          "metadata": {},
          "execution_count": 146
        },
        {
          "output_type": "display_data",
          "data": {
            "image/png": "[encoded data removed]",
            "text/plain": [
              "<Figure size 432x288 with 1 Axes>"
            ]
          },
          "metadata": {
            "needs_background": "light"
          }
        }
      ]
    },
    {
      "cell_type": "code",
      "source": [
        "print(\"NDCG@50\")\n",
        "NDCG = []\n",
        "for i in range(ExperimentConfig.num_epochs):\n",
        "  NDCG.append(list_scores[9*i+3])\n",
        "plt.plot(NDCG)\n",
        "plt.title('NDCG@50')"
      ],
      "metadata": {
        "colab": {
          "base_uri": "https://localhost:8080/",
          "height": 316
        },
        "id": "EKJIN8trhW4i",
        "outputId": "c5182659-cd16-4149-a989-88135646e26c"
      },
      "execution_count": null,
      "outputs": [
        {
          "output_type": "stream",
          "name": "stdout",
          "text": [
            "NDCG@50\n"
          ]
        },
        {
          "output_type": "execute_result",
          "data": {
            "text/plain": [
              "Text(0.5, 1.0, 'NDCG@50')"
            ]
          },
          "metadata": {},
          "execution_count": 147
        },
        {
          "output_type": "display_data",
          "data": {
            "image/png": "[encoded data removed]",
            "text/plain": [
              "<Figure size 432x288 with 1 Axes>"
            ]
          },
          "metadata": {
            "needs_background": "light"
          }
        }
      ]
    },
    {
      "cell_type": "markdown",
      "source": [
        "# TEST 5: \n",
        "*   Dimension of the latent representation K: 100 \n",
        "\n",
        "\n",
        "I->100->I\n",
        "\n",
        "* Annealing the Kullback-Leibler term linearly for 200,000 gradient updates. (total_anneal_steps)\n",
        "*  Dropout at the input layer with probability 0.5 ('dropout': 0.5)\n",
        "*  Train for 50 epochs. \n",
        "*  *Batch size: 250 users* \n",
        "* *$\\beta$: 0.01 (regularization parameter)*\n",
        "* learning rate: 0.005 "
      ],
      "metadata": {
        "id": "r4yylmDPnB5r"
      }
    },
    {
      "cell_type": "markdown",
      "source": [
        "#Metrics:\n",
        "\n",
        "'Prec@20': 0.20047185, \n",
        "\n",
        "'Prec@50': 0.14929138, \n",
        "\n",
        "'Prec@100': 0.113399, \n",
        "\n",
        "'Recall@20': 0.1763435, \n",
        "\n",
        "'Recall@50': 0.30717802, \n",
        "\n",
        "'Recall@100': 0.44264773, \n",
        "\n",
        "'NDCG@20': 0.25988668, \n",
        "\n",
        "'NDCG@50': 0.28355676, \n",
        "\n",
        "'NDCG@100': 0.32940912"
      ],
      "metadata": {
        "id": "55loCsT5oQ4r"
      }
    },
    {
      "cell_type": "code",
      "source": [
        "print(ret['scores'])\n",
        "\n",
        "import matplotlib.pyplot as plt\n",
        "print(\"\\n\", loss)    \n",
        "plt.plot(loss)"
      ],
      "metadata": {
        "colab": {
          "base_uri": "https://localhost:8080/",
          "height": 354
        },
        "id": "-jZgv1KOhcD6",
        "outputId": "2dcedbd5-acd1-4c28-ef7d-eda87fa796b9"
      },
      "execution_count": null,
      "outputs": [
        {
          "output_type": "stream",
          "name": "stdout",
          "text": [
            "{'Prec@20': 0.20047185, 'Prec@50': 0.14929138, 'Prec@100': 0.113399, 'Recall@20': 0.1763435, 'Recall@50': 0.30717802, 'Recall@100': 0.44264773, 'NDCG@20': 0.25988668, 'NDCG@50': 0.28355676, 'NDCG@100': 0.32940912}\n",
            "\n",
            " [tensor(57159.1523, grad_fn=<AddBackward0>), tensor(29426.5488, grad_fn=<AddBackward0>), tensor(18563.6387, grad_fn=<AddBackward0>), tensor(16682.5625, grad_fn=<AddBackward0>), tensor(15585.8564, grad_fn=<AddBackward0>), tensor(14843.7920, grad_fn=<AddBackward0>), tensor(14179.5312, grad_fn=<AddBackward0>), tensor(13548.8975, grad_fn=<AddBackward0>), tensor(13084.3262, grad_fn=<AddBackward0>), tensor(12609.0273, grad_fn=<AddBackward0>), tensor(11998.8389, grad_fn=<AddBackward0>), tensor(11643.2422, grad_fn=<AddBackward0>), tensor(11544.5615, grad_fn=<AddBackward0>), tensor(11218.9043, grad_fn=<AddBackward0>), tensor(10991.0420, grad_fn=<AddBackward0>), tensor(10856.0176, grad_fn=<AddBackward0>), tensor(10600.4473, grad_fn=<AddBackward0>), tensor(10482.3916, grad_fn=<AddBackward0>), tensor(10373.5195, grad_fn=<AddBackward0>), tensor(10270.8984, grad_fn=<AddBackward0>), tensor(10147.2041, grad_fn=<AddBackward0>), tensor(10001.7979, grad_fn=<AddBackward0>), tensor(9890.2148, grad_fn=<AddBackward0>), tensor(9883.0811, grad_fn=<AddBackward0>), tensor(9673.5938, grad_fn=<AddBackward0>), tensor(9646.5801, grad_fn=<AddBackward0>), tensor(9522.5723, grad_fn=<AddBackward0>), tensor(9384.4414, grad_fn=<AddBackward0>), tensor(9393.5654, grad_fn=<AddBackward0>), tensor(9248.0771, grad_fn=<AddBackward0>), tensor(9156.4922, grad_fn=<AddBackward0>), tensor(9155.1484, grad_fn=<AddBackward0>), tensor(9014.0938, grad_fn=<AddBackward0>), tensor(8976.1660, grad_fn=<AddBackward0>), tensor(8905.3301, grad_fn=<AddBackward0>), tensor(8826.4053, grad_fn=<AddBackward0>), tensor(8787.3496, grad_fn=<AddBackward0>), tensor(8715.2148, grad_fn=<AddBackward0>), tensor(8663.9785, grad_fn=<AddBackward0>), tensor(8609.4502, grad_fn=<AddBackward0>), tensor(8633.0254, grad_fn=<AddBackward0>), tensor(8472.0244, grad_fn=<AddBackward0>), tensor(8416.6240, grad_fn=<AddBackward0>), tensor(8375.3770, grad_fn=<AddBackward0>), tensor(8308.5664, grad_fn=<AddBackward0>), tensor(8259.6895, grad_fn=<AddBackward0>), tensor(8252.9297, grad_fn=<AddBackward0>), tensor(8210.9775, grad_fn=<AddBackward0>), tensor(8235.7900, grad_fn=<AddBackward0>), tensor(8167.4404, grad_fn=<AddBackward0>)]\n"
          ]
        },
        {
          "output_type": "execute_result",
          "data": {
            "text/plain": [
              "[<matplotlib.lines.Line2D at 0x7f2cefde3850>]"
            ]
          },
          "metadata": {},
          "execution_count": 157
        },
        {
          "output_type": "display_data",
          "data": {
            "image/png": "[encoded data removed]",
            "text/plain": [
              "<Figure size 432x288 with 1 Axes>"
            ]
          },
          "metadata": {
            "needs_background": "light"
          }
        }
      ]
    },
    {
      "cell_type": "code",
      "source": [
        "print(\"Prec@50\")\n",
        "prec5 = []\n",
        "for i in range(ExperimentConfig.num_epochs):\n",
        "  prec5.append(list_scores[9*i+1])\n",
        "#prec5.append(list_scores[-1])\n",
        "plt.plot(prec5)\n",
        "plt.title('Prec@50')"
      ],
      "metadata": {
        "colab": {
          "base_uri": "https://localhost:8080/",
          "height": 316
        },
        "id": "kyI5cclinH0B",
        "outputId": "66b31795-2ec0-4d06-8215-ffe981cdc01c"
      },
      "execution_count": null,
      "outputs": [
        {
          "output_type": "stream",
          "name": "stdout",
          "text": [
            "Prec@50\n"
          ]
        },
        {
          "output_type": "execute_result",
          "data": {
            "text/plain": [
              "Text(0.5, 1.0, 'Prec@50')"
            ]
          },
          "metadata": {},
          "execution_count": 158
        },
        {
          "output_type": "display_data",
          "data": {
            "image/png": "[encoded data removed]",
            "text/plain": [
              "<Figure size 432x288 with 1 Axes>"
            ]
          },
          "metadata": {
            "needs_background": "light"
          }
        }
      ]
    },
    {
      "cell_type": "code",
      "source": [
        "print(\"Recall@50\")\n",
        "Recall = []\n",
        "for i in range(ExperimentConfig.num_epochs):\n",
        "  Recall.append(list_scores[9*i+2])\n",
        "plt.plot(Recall)\n",
        "plt.title('Recall@50')"
      ],
      "metadata": {
        "colab": {
          "base_uri": "https://localhost:8080/",
          "height": 316
        },
        "id": "9vl5nnaInKFd",
        "outputId": "e6cccf47-7128-490c-ae19-951b984cb546"
      },
      "execution_count": null,
      "outputs": [
        {
          "output_type": "stream",
          "name": "stdout",
          "text": [
            "Recall@50\n"
          ]
        },
        {
          "output_type": "execute_result",
          "data": {
            "text/plain": [
              "Text(0.5, 1.0, 'Recall@50')"
            ]
          },
          "metadata": {},
          "execution_count": 159
        },
        {
          "output_type": "display_data",
          "data": {
            "image/png": "[encoded data removed]",
            "text/plain": [
              "<Figure size 432x288 with 1 Axes>"
            ]
          },
          "metadata": {
            "needs_background": "light"
          }
        }
      ]
    },
    {
      "cell_type": "code",
      "source": [
        "print(\"NDCG@50\")\n",
        "NDCG = []\n",
        "for i in range(ExperimentConfig.num_epochs):\n",
        "  NDCG.append(list_scores[9*i+3])\n",
        "plt.plot(NDCG)\n",
        "plt.title('NDCG@50')"
      ],
      "metadata": {
        "colab": {
          "base_uri": "https://localhost:8080/",
          "height": 316
        },
        "id": "gASF7_B_nOa5",
        "outputId": "d68d5bcc-f630-4323-f3b5-43623953eae1"
      },
      "execution_count": null,
      "outputs": [
        {
          "output_type": "stream",
          "name": "stdout",
          "text": [
            "NDCG@50\n"
          ]
        },
        {
          "output_type": "execute_result",
          "data": {
            "text/plain": [
              "Text(0.5, 1.0, 'NDCG@50')"
            ]
          },
          "metadata": {},
          "execution_count": 160
        },
        {
          "output_type": "display_data",
          "data": {
            "image/png": "[encoded data removed]",
            "text/plain": [
              "<Figure size 432x288 with 1 Axes>"
            ]
          },
          "metadata": {
            "needs_background": "light"
          }
        }
      ]
    },
    {
      "cell_type": "markdown",
      "source": [
        "# TEST 6: ****** \n",
        "*   Dimension of the latent representation K: 300 \n",
        "\n",
        "\n",
        "I->300->I\n",
        "\n",
        "* Annealing the Kullback-Leibler term linearly for 200,000 gradient updates. (total_anneal_steps)\n",
        "*  Dropout at the input layer with probability 0.5 ('dropout': 0.5)\n",
        "*  Train for 50 epochs. \n",
        "*  *Batch size: 250 users* \n",
        "* *$\\beta$: 0.01 (regularization parameter)*\n",
        "* learning rate: 0.005 "
      ],
      "metadata": {
        "id": "jgA8Tj4Fo5t-"
      }
    },
    {
      "cell_type": "markdown",
      "source": [
        "#Metrics:\n",
        "'Prec@20': 0.2292798, \n",
        "\n",
        "'Prec@50': 0.1697914, \n",
        "\n",
        "'Prec@100': 0.12702152, \n",
        "\n",
        "'Recall@20': 0.2153419, \n",
        "\n",
        "'Recall@50': 0.36685577, \n",
        "\n",
        "'Recall@100': 0.5099808, \n",
        "\n",
        "'NDCG@20': 0.30023974, \n",
        "\n",
        "'NDCG@50': 0.33157772, \n",
        "\n",
        "'NDCG@100': 0.38099474"
      ],
      "metadata": {
        "id": "3e3zWf-dqvjh"
      }
    },
    {
      "cell_type": "code",
      "source": [
        "print(ret['scores'])\n",
        "\n",
        "import matplotlib.pyplot as plt\n",
        "print(\"\\n\", loss)    \n",
        "plt.plot(loss)"
      ],
      "metadata": {
        "colab": {
          "base_uri": "https://localhost:8080/",
          "height": 357
        },
        "id": "RpnHO3M2nPB5",
        "outputId": "339db7f7-2380-4e81-a1e9-a408843d075f"
      },
      "execution_count": null,
      "outputs": [
        {
          "output_type": "stream",
          "name": "stdout",
          "text": [
            "{'Prec@20': 0.2292798, 'Prec@50': 0.1697914, 'Prec@100': 0.12702152, 'Recall@20': 0.2153419, 'Recall@50': 0.36685577, 'Recall@100': 0.5099808, 'NDCG@20': 0.30023974, 'NDCG@50': 0.33157772, 'NDCG@100': 0.38099474}\n",
            "\n",
            " [tensor(48345.9219, grad_fn=<AddBackward0>), tensor(19177.2480, grad_fn=<AddBackward0>), tensor(15967.4561, grad_fn=<AddBackward0>), tensor(14755.6250, grad_fn=<AddBackward0>), tensor(13563.2725, grad_fn=<AddBackward0>), tensor(12554.9541, grad_fn=<AddBackward0>), tensor(11814.3135, grad_fn=<AddBackward0>), tensor(11243.5918, grad_fn=<AddBackward0>), tensor(10932.6016, grad_fn=<AddBackward0>), tensor(10682.8789, grad_fn=<AddBackward0>), tensor(10324.6055, grad_fn=<AddBackward0>), tensor(10078.4844, grad_fn=<AddBackward0>), tensor(10065.0371, grad_fn=<AddBackward0>), tensor(9752.0625, grad_fn=<AddBackward0>), tensor(9598.7119, grad_fn=<AddBackward0>), tensor(9530.8506, grad_fn=<AddBackward0>), tensor(9324.1367, grad_fn=<AddBackward0>), tensor(9179.3594, grad_fn=<AddBackward0>), tensor(9082.2607, grad_fn=<AddBackward0>), tensor(8965.4688, grad_fn=<AddBackward0>), tensor(8840.7715, grad_fn=<AddBackward0>), tensor(8683.1260, grad_fn=<AddBackward0>), tensor(8577.8135, grad_fn=<AddBackward0>), tensor(8593.5508, grad_fn=<AddBackward0>), tensor(8424.4268, grad_fn=<AddBackward0>), tensor(8416.0977, grad_fn=<AddBackward0>), tensor(8295.6504, grad_fn=<AddBackward0>), tensor(8213.8398, grad_fn=<AddBackward0>), tensor(8232.7695, grad_fn=<AddBackward0>), tensor(8140.0903, grad_fn=<AddBackward0>), tensor(8069.2695, grad_fn=<AddBackward0>), tensor(8097.6938, grad_fn=<AddBackward0>), tensor(7980.1201, grad_fn=<AddBackward0>), tensor(7965.0513, grad_fn=<AddBackward0>), tensor(7905.6533, grad_fn=<AddBackward0>), tensor(7880.5137, grad_fn=<AddBackward0>), tensor(7844.1240, grad_fn=<AddBackward0>), tensor(7798.3730, grad_fn=<AddBackward0>), tensor(7792.0786, grad_fn=<AddBackward0>), tensor(7762.0527, grad_fn=<AddBackward0>), tensor(7793.0181, grad_fn=<AddBackward0>), tensor(7653.9463, grad_fn=<AddBackward0>), tensor(7620.0942, grad_fn=<AddBackward0>), tensor(7599.6880, grad_fn=<AddBackward0>), tensor(7571.8652, grad_fn=<AddBackward0>), tensor(7529.0435, grad_fn=<AddBackward0>), tensor(7539.1685, grad_fn=<AddBackward0>), tensor(7521.0791, grad_fn=<AddBackward0>), tensor(7549.0190, grad_fn=<AddBackward0>), tensor(7495.1138, grad_fn=<AddBackward0>)]\n"
          ]
        },
        {
          "output_type": "execute_result",
          "data": {
            "text/plain": [
              "[<matplotlib.lines.Line2D at 0x7f2cefccc590>]"
            ]
          },
          "metadata": {},
          "execution_count": 163
        },
        {
          "output_type": "display_data",
          "data": {
            "image/png": "[encoded data removed]",
            "text/plain": [
              "<Figure size 432x288 with 1 Axes>"
            ]
          },
          "metadata": {
            "needs_background": "light"
          }
        }
      ]
    },
    {
      "cell_type": "code",
      "source": [
        "print(\"Prec@50\")\n",
        "prec5 = []\n",
        "for i in range(ExperimentConfig.num_epochs):\n",
        "  prec5.append(list_scores[9*i+1])\n",
        "#prec5.append(list_scores[-1])\n",
        "plt.plot(prec5)\n",
        "plt.title('Prec@50')"
      ],
      "metadata": {
        "colab": {
          "base_uri": "https://localhost:8080/",
          "height": 316
        },
        "id": "yGs92ggbo_Gp",
        "outputId": "d15e84e7-111b-4095-fc57-6768436d6ed0"
      },
      "execution_count": null,
      "outputs": [
        {
          "output_type": "stream",
          "name": "stdout",
          "text": [
            "Prec@50\n"
          ]
        },
        {
          "output_type": "execute_result",
          "data": {
            "text/plain": [
              "Text(0.5, 1.0, 'Prec@50')"
            ]
          },
          "metadata": {},
          "execution_count": 164
        },
        {
          "output_type": "display_data",
          "data": {
            "image/png": "[encoded data removed]",
            "text/plain": [
              "<Figure size 432x288 with 1 Axes>"
            ]
          },
          "metadata": {
            "needs_background": "light"
          }
        }
      ]
    },
    {
      "cell_type": "code",
      "source": [
        "print(\"Recall@50\")\n",
        "Recall = []\n",
        "for i in range(ExperimentConfig.num_epochs):\n",
        "  Recall.append(list_scores[9*i+2])\n",
        "plt.plot(Recall)\n",
        "plt.title('Recall@50')"
      ],
      "metadata": {
        "colab": {
          "base_uri": "https://localhost:8080/",
          "height": 316
        },
        "id": "5Tw4FkFEpBxQ",
        "outputId": "1f931468-b5e2-4f42-e00a-8254b4660268"
      },
      "execution_count": null,
      "outputs": [
        {
          "output_type": "stream",
          "name": "stdout",
          "text": [
            "Recall@50\n"
          ]
        },
        {
          "output_type": "execute_result",
          "data": {
            "text/plain": [
              "Text(0.5, 1.0, 'Recall@50')"
            ]
          },
          "metadata": {},
          "execution_count": 165
        },
        {
          "output_type": "display_data",
          "data": {
            "image/png": "[encoded data removed]",
            "text/plain": [
              "<Figure size 432x288 with 1 Axes>"
            ]
          },
          "metadata": {
            "needs_background": "light"
          }
        }
      ]
    },
    {
      "cell_type": "code",
      "source": [
        "print(\"NDCG@50\")\n",
        "NDCG = []\n",
        "for i in range(ExperimentConfig.num_epochs):\n",
        "  NDCG.append(list_scores[9*i+3])\n",
        "plt.plot(NDCG)\n",
        "plt.title('NDCG@50')"
      ],
      "metadata": {
        "colab": {
          "base_uri": "https://localhost:8080/",
          "height": 316
        },
        "id": "eloiqkrXpEPE",
        "outputId": "1c2d26ca-b7a3-4931-ed59-571a544da1db"
      },
      "execution_count": null,
      "outputs": [
        {
          "output_type": "stream",
          "name": "stdout",
          "text": [
            "NDCG@50\n"
          ]
        },
        {
          "output_type": "execute_result",
          "data": {
            "text/plain": [
              "Text(0.5, 1.0, 'NDCG@50')"
            ]
          },
          "metadata": {},
          "execution_count": 166
        },
        {
          "output_type": "display_data",
          "data": {
            "image/png": "[encoded data removed]",
            "text/plain": [
              "<Figure size 432x288 with 1 Axes>"
            ]
          },
          "metadata": {
            "needs_background": "light"
          }
        }
      ]
    },
    {
      "cell_type": "markdown",
      "source": [
        "# TEST 7: \n",
        "*   Dimension of the latent representation K: 300 \n",
        "\n",
        "\n",
        "I->300->I\n",
        "\n",
        "* Annealing the Kullback-Leibler term linearly for 200,000 gradient updates. (total_anneal_steps)\n",
        "*  Dropout at the input layer with probability 0.5 ('dropout': 0.5)\n",
        "*  Train for 50 epochs. \n",
        "*  *Batch size: 250 users* \n",
        "* *$\\beta$: 0.2 (regularization parameter)*\n",
        "* learning rate: 0.005 "
      ],
      "metadata": {
        "id": "Dmt5qfcbrO-H"
      }
    },
    {
      "cell_type": "markdown",
      "source": [
        "#Metrics:\n",
        "\n",
        "'Prec@20': 0.22141558, \n",
        "\n",
        "'Prec@50': 0.16437085, \n",
        "\n",
        "'Prec@100': 0.12342715, \n",
        "\n",
        "'Recall@20': 0.20364279, \n",
        "\n",
        "'Recall@50': 0.3497488, \n",
        "\n",
        "'Recall@100': 0.49047297, \n",
        "\n",
        "'NDCG@20': 0.28869224, \n",
        "\n",
        "'NDCG@50': 0.31794605, \n",
        "\n",
        "'NDCG@100': 0.36627364"
      ],
      "metadata": {
        "id": "CL-TC6NNtS0S"
      }
    },
    {
      "cell_type": "code",
      "source": [
        "print(ret['scores'])\n",
        "\n",
        "import matplotlib.pyplot as plt\n",
        "print(\"\\n\", loss)    \n",
        "plt.plot(loss)"
      ],
      "metadata": {
        "colab": {
          "base_uri": "https://localhost:8080/",
          "height": 354
        },
        "id": "ZqoAZAaapGQz",
        "outputId": "1d1df7dc-4f4f-4e19-ea6d-df7a7d3e2835"
      },
      "execution_count": null,
      "outputs": [
        {
          "output_type": "stream",
          "name": "stdout",
          "text": [
            "{'Prec@20': 0.22141558, 'Prec@50': 0.16437085, 'Prec@100': 0.12342715, 'Recall@20': 0.20364279, 'Recall@50': 0.3497488, 'Recall@100': 0.49047297, 'NDCG@20': 0.28869224, 'NDCG@50': 0.31794605, 'NDCG@100': 0.36627364}\n",
            "\n",
            " [tensor(52368.2930, grad_fn=<AddBackward0>), tensor(21878.0488, grad_fn=<AddBackward0>), tensor(16631.3672, grad_fn=<AddBackward0>), tensor(15456.3027, grad_fn=<AddBackward0>), tensor(14359.1104, grad_fn=<AddBackward0>), tensor(13474.7529, grad_fn=<AddBackward0>), tensor(12681.5508, grad_fn=<AddBackward0>), tensor(11978.0996, grad_fn=<AddBackward0>), tensor(11616.4512, grad_fn=<AddBackward0>), tensor(11201.5898, grad_fn=<AddBackward0>), tensor(10783.1104, grad_fn=<AddBackward0>), tensor(10555.5186, grad_fn=<AddBackward0>), tensor(10487.5352, grad_fn=<AddBackward0>), tensor(10236.2949, grad_fn=<AddBackward0>), tensor(10097.7910, grad_fn=<AddBackward0>), tensor(10059.7295, grad_fn=<AddBackward0>), tensor(9862.3447, grad_fn=<AddBackward0>), tensor(9750.9727, grad_fn=<AddBackward0>), tensor(9617.0820, grad_fn=<AddBackward0>), tensor(9514.7871, grad_fn=<AddBackward0>), tensor(9371.8076, grad_fn=<AddBackward0>), tensor(9189.6709, grad_fn=<AddBackward0>), tensor(9044.1162, grad_fn=<AddBackward0>), tensor(9030.9951, grad_fn=<AddBackward0>), tensor(8852.8447, grad_fn=<AddBackward0>), tensor(8834.2314, grad_fn=<AddBackward0>), tensor(8711.9619, grad_fn=<AddBackward0>), tensor(8624.8750, grad_fn=<AddBackward0>), tensor(8639.6826, grad_fn=<AddBackward0>), tensor(8518.7842, grad_fn=<AddBackward0>), tensor(8445.9736, grad_fn=<AddBackward0>), tensor(8470.8848, grad_fn=<AddBackward0>), tensor(8338.2656, grad_fn=<AddBackward0>), tensor(8318.0186, grad_fn=<AddBackward0>), tensor(8245.4355, grad_fn=<AddBackward0>), tensor(8201.0771, grad_fn=<AddBackward0>), tensor(8160.7915, grad_fn=<AddBackward0>), tensor(8107.3799, grad_fn=<AddBackward0>), tensor(8066.2310, grad_fn=<AddBackward0>), tensor(8031.7559, grad_fn=<AddBackward0>), tensor(8039.1904, grad_fn=<AddBackward0>), tensor(7904.6392, grad_fn=<AddBackward0>), tensor(7854.9331, grad_fn=<AddBackward0>), tensor(7832.1855, grad_fn=<AddBackward0>), tensor(7790.2695, grad_fn=<AddBackward0>), tensor(7741.6099, grad_fn=<AddBackward0>), tensor(7749.4575, grad_fn=<AddBackward0>), tensor(7724.3584, grad_fn=<AddBackward0>), tensor(7756.1328, grad_fn=<AddBackward0>), tensor(7696.4692, grad_fn=<AddBackward0>)]\n"
          ]
        },
        {
          "output_type": "execute_result",
          "data": {
            "text/plain": [
              "[<matplotlib.lines.Line2D at 0x7f2cefcf3b50>]"
            ]
          },
          "metadata": {},
          "execution_count": 169
        },
        {
          "output_type": "display_data",
          "data": {
            "image/png": "[encoded data removed]",
            "text/plain": [
              "<Figure size 432x288 with 1 Axes>"
            ]
          },
          "metadata": {
            "needs_background": "light"
          }
        }
      ]
    },
    {
      "cell_type": "code",
      "source": [
        "print(\"Prec@50\")\n",
        "prec5 = []\n",
        "for i in range(ExperimentConfig.num_epochs):\n",
        "  prec5.append(list_scores[9*i+1])\n",
        "#prec5.append(list_scores[-1])\n",
        "plt.plot(prec5)\n",
        "plt.title('Prec@50')"
      ],
      "metadata": {
        "colab": {
          "base_uri": "https://localhost:8080/",
          "height": 316
        },
        "id": "V9w3yiEBrXWb",
        "outputId": "2e4d2f89-a1a4-4531-dce6-55b5c8e500ad"
      },
      "execution_count": null,
      "outputs": [
        {
          "output_type": "stream",
          "name": "stdout",
          "text": [
            "Prec@50\n"
          ]
        },
        {
          "output_type": "execute_result",
          "data": {
            "text/plain": [
              "Text(0.5, 1.0, 'Prec@50')"
            ]
          },
          "metadata": {},
          "execution_count": 170
        },
        {
          "output_type": "display_data",
          "data": {
            "image/png": "[encoded data removed]",
            "text/plain": [
              "<Figure size 432x288 with 1 Axes>"
            ]
          },
          "metadata": {
            "needs_background": "light"
          }
        }
      ]
    },
    {
      "cell_type": "code",
      "source": [
        "print(\"Recall@50\")\n",
        "Recall = []\n",
        "for i in range(ExperimentConfig.num_epochs):\n",
        "  Recall.append(list_scores[9*i+2])\n",
        "plt.plot(Recall)\n",
        "plt.title('Recall@50')"
      ],
      "metadata": {
        "colab": {
          "base_uri": "https://localhost:8080/",
          "height": 316
        },
        "id": "IXUYVH9arfG_",
        "outputId": "1c9f455a-35ef-4d2f-c699-c9af2f4b4c02"
      },
      "execution_count": null,
      "outputs": [
        {
          "output_type": "stream",
          "name": "stdout",
          "text": [
            "Recall@50\n"
          ]
        },
        {
          "output_type": "execute_result",
          "data": {
            "text/plain": [
              "Text(0.5, 1.0, 'Recall@50')"
            ]
          },
          "metadata": {},
          "execution_count": 171
        },
        {
          "output_type": "display_data",
          "data": {
            "image/png": "[encoded data removed]",
            "text/plain": [
              "<Figure size 432x288 with 1 Axes>"
            ]
          },
          "metadata": {
            "needs_background": "light"
          }
        }
      ]
    },
    {
      "cell_type": "code",
      "source": [
        "print(\"NDCG@50\")\n",
        "NDCG = []\n",
        "for i in range(ExperimentConfig.num_epochs):\n",
        "  NDCG.append(list_scores[9*i+3])\n",
        "plt.plot(NDCG)\n",
        "plt.title('NDCG@50')"
      ],
      "metadata": {
        "colab": {
          "base_uri": "https://localhost:8080/",
          "height": 316
        },
        "id": "evydGvf1rjfv",
        "outputId": "e738f1eb-c3c3-406d-9381-b492e5ef2782"
      },
      "execution_count": null,
      "outputs": [
        {
          "output_type": "stream",
          "name": "stdout",
          "text": [
            "NDCG@50\n"
          ]
        },
        {
          "output_type": "execute_result",
          "data": {
            "text/plain": [
              "Text(0.5, 1.0, 'NDCG@50')"
            ]
          },
          "metadata": {},
          "execution_count": 172
        },
        {
          "output_type": "display_data",
          "data": {
            "image/png": "[encoded data removed]",
            "text/plain": [
              "<Figure size 432x288 with 1 Axes>"
            ]
          },
          "metadata": {
            "needs_background": "light"
          }
        }
      ]
    },
    {
      "cell_type": "markdown",
      "source": [
        ""
      ],
      "metadata": {
        "id": "eqfuYb_irbqi"
      }
    }
  ]
}